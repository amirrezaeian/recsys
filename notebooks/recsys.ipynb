{
 "cells": [
  {
   "cell_type": "markdown",
   "id": "01b4e47b",
   "metadata": {},
   "source": [
    "# Table of Contents\n",
    "* [1. Introduction](#1.-Introduction)\n",
    "    * [1.1 Recommendation models](#1.1-Recommendation-models)\n",
    "    * [1.2 Hybrid Matrix Factorisation Algorithm](#1.2-Hybrid-Matrix-Factorisation-Algorithm)\n",
    "* [2. Importing Libraries](#2.-Import-Libraries)\n",
    "   * [2.1 Import external libs](#2.1-Import-external-libs)\n",
    "   * [2.2 Import internal libs](#2.2-Import-internal-libs)\n",
    "* [3. Define constant variables](#3.-Define-constant-variables)  \n",
    "* [4. Product recommendation with Explicit Feedback](#4.-Product-recommendation-with-Explicit-Feedback)\n",
    "    * [4.1 Import Data & Exploratory Data Analysis](#4.1-Import-Data-&-Exploratory-Data-Analysis)\n",
    "        * [4.1.1 Deal with duplicates events](#4.1.1-Deal-with-duplicates-events)\n",
    "        * [4.1.2 Import meta data for product ID](#4.1.2-Import-meta-data-for-product-ID)\n",
    "    * [4.2 Data Preprocessing](#4.2-Data-Preprocessing)    \n",
    "        * [4.2.1 Build Interaction Matrix](#4.2.1-Build-Interaction-Matrix)\n",
    "        * [4.2.2 Split data to train and test](#4.2.2-Split-data-to-train-and-test)\n",
    "        * [4.2.3 Build User and item dictionaries](#4.2.3-Build-User-and-item-dictionaries)\n",
    "    * [4.3 Train Matrix Factorization model](#4.3-Train-Matrix-Factorization-model)\n",
    "    * [4.4 Model Evaluation](#4.4-Model-Evaluation)\n",
    "    * [4.5 User recommendations](#4.5-User-recommendations)\n",
    "    * [4.6 User-item recommendations](#4.6-User-item-recommendations)\n",
    "    * [4.7 Item-item recommendations](#4.7-Item-item-recommendations)\n",
    "* [5. Product recommendation with implicit Feedback](#5.-Product-recommendation-with-implicit-Feedback)   \n",
    "    * [5.1 Exploratory Data Analysis](#5.1-Exploratory-Data-Analysis)\n",
    "    * [5.2 Data Preprocessing](#5.2-Data-Preprocessing) \n",
    "        * [5.2.1 Build Interaction Matrix](#5.2.1-Build-Interaction-Matrix)\n",
    "        * [5.2.2 Split data to train and test](#5.2.2-Split-data-to-train-and-test)\n",
    "        * [5.2.3 Build User and item dictionaries](#5.2.3-Build-User-and-item-dictionaries)    \n",
    "    * [5.3 Train Matrix Factorization model with implicit feedback data](#5.3-Train-Matrix-Factorization-model-with-implicit-feedback-data)\n",
    "    * [5.4 Model Evaluation](#5.4-Model-Evaluation)\n",
    "    * [5.5 User recommendations](#5.5-User-recommendations)\n",
    "    * [5.6 User-item recommendations](#5.6-User-item-recommendations)\n",
    "    * [5.7 Item-item recommendations](#5.7-Item-item-recommendations)\n",
    "* [6. Conclusion](#6.-Conclusion)"
   ]
  },
  {
   "cell_type": "markdown",
   "id": "8c68ccb9",
   "metadata": {},
   "source": [
    "# 1. Introduction"
   ]
  },
  {
   "cell_type": "markdown",
   "id": "6da668ff",
   "metadata": {},
   "source": [
    "This notebook introduces the concept of a hybrid matrix factorization based model for recommendation. We illustrate how to build a pure matrix factorization using both explicit and/or implicit feedback data. "
   ]
  },
  {
   "cell_type": "markdown",
   "id": "9ff002b3",
   "metadata": {},
   "source": [
    "## 1.1 Recommendation models"
   ]
  },
  {
   "cell_type": "markdown",
   "id": "1f4c3f6b",
   "metadata": {},
   "source": [
    "In general most recommendation models can be divided into three types: \n",
    "\n",
    "- Collaborative Filtering: \n",
    "\n",
    "> Collaborative filtering is a method of making predictions about the interests of a user by collecting preferences or taste information from many users (collaborating). The underlying assumption of the collaborative filtering approach is that if a person A has the same opinion as a person B on an issue, A is more likely to have B's opinion on a different issue than that of a randomly chosen person. \n",
    "                                                \n",
    "- Content-Based Filtering: \n",
    "\n",
    "> Uses similarity between items to recommend items similar to what the user likes. These methods utilize the description of an item and a profile of the user’s preferred choices. In this type of approches, model tries to recommend products which are similar to the ones that a user has liked in the past. The idea of content-based filtering is that if you like an item you will also like a ‘similar’ item.\n",
    "\n",
    "\n",
    "- Hybrid recommender system: \n",
    "\n",
    "> Hybrid recommender system is a special type of recommender system that combines both content and collaborative filtering method.  These methods can be used to overcome some of the common problems in recommender systems such as cold-start and the sparsity problem.\n",
    "\n",
    "\n",
    "The choice between these models is mainly based on the data availability. For example, the collaborative filtering model is very effective when sufficient interactions of user-item have been recorded. On the other hand, the content based models can be effective when the metadata of the users and items are available. The hybrid approches  are common to address the cold-start issues, where there are insufficient historical interactions available. \n",
    "\n"
   ]
  },
  {
   "cell_type": "markdown",
   "id": "05bb1b72",
   "metadata": {},
   "source": [
    "## 1.2 Hybrid Matrix Factorisation Algorithm"
   ]
  },
  {
   "cell_type": "markdown",
   "id": "9b84004e",
   "metadata": {},
   "source": [
    "In general, most hybrid approaches incorporate the feature data or meta data in conjunction with the collaborative information (user-item interaction).\n",
    "\n",
    "[LightFM](https://arxiv.org/abs/1507.08439) is one of the most effective hybrid recommendation algorithms which deal with both implicit and explicit feedbacks use-cases. In this notebook, as example, we will mainly focus on implementation of the LightFM, however, the most methods introduced here are generic and can be utilized for other models as well. \n",
    "\n",
    "The LightFM model represents users and items as linear combinations of their content features’ latent factors. The model learns embedding vectors or latent representations of the users and items. These representations produce scores for every item for a given user; items scored highly are more likely to be interesting to the user.\n"
   ]
  },
  {
   "cell_type": "markdown",
   "id": "f1e8d8ab",
   "metadata": {},
   "source": [
    "# 2. Import libraries"
   ]
  },
  {
   "cell_type": "markdown",
   "id": "52600080",
   "metadata": {},
   "source": [
    "All the required libraries/packages are given in the `requirements.txt` and can be installed by running on the terminal. Make sure you run this command in the same directory where the requirements.txt file is located. <br> \n",
    "`pip install -r requirements.txt` \n",
    "\n",
    "One can also install the packages directly from the notebook by running: <br> \n",
    "`!pip install -r requirements.txt`"
   ]
  },
  {
   "cell_type": "code",
   "execution_count": 1,
   "id": "8db49cb9",
   "metadata": {},
   "outputs": [
    {
     "name": "stdout",
     "output_type": "stream",
     "text": [
      "Requirement already satisfied: ipython in /opt/conda/lib/python3.8/site-packages (from -r requirements.txt (line 1)) (8.8.0)\n",
      "Requirement already satisfied: numpy in /opt/conda/lib/python3.8/site-packages (from -r requirements.txt (line 2)) (1.22.4)\n",
      "Requirement already satisfied: lightfm==1.16 in /opt/conda/lib/python3.8/site-packages (from -r requirements.txt (line 3)) (1.16)\n",
      "Requirement already satisfied: matplotlib==3.5.1 in /opt/conda/lib/python3.8/site-packages (from -r requirements.txt (line 4)) (3.5.1)\n",
      "Requirement already satisfied: pandas==1.3.5 in /opt/conda/lib/python3.8/site-packages (from -r requirements.txt (line 5)) (1.3.5)\n",
      "Requirement already satisfied: scikit_learn==1.2.1 in /opt/conda/lib/python3.8/site-packages (from -r requirements.txt (line 6)) (1.2.1)\n",
      "Requirement already satisfied: scipy==1.7.3 in /opt/conda/lib/python3.8/site-packages (from -r requirements.txt (line 7)) (1.7.3)\n",
      "Requirement already satisfied: seaborn==0.11.2 in /opt/conda/lib/python3.8/site-packages (from -r requirements.txt (line 8)) (0.11.2)\n",
      "Requirement already satisfied: requests in /opt/conda/lib/python3.8/site-packages (from lightfm==1.16->-r requirements.txt (line 3)) (2.27.1)\n",
      "Requirement already satisfied: kiwisolver>=1.0.1 in /opt/conda/lib/python3.8/site-packages (from matplotlib==3.5.1->-r requirements.txt (line 4)) (1.4.4)\n",
      "Requirement already satisfied: packaging>=20.0 in /opt/conda/lib/python3.8/site-packages (from matplotlib==3.5.1->-r requirements.txt (line 4)) (22.0)\n",
      "Requirement already satisfied: pillow>=6.2.0 in /opt/conda/lib/python3.8/site-packages (from matplotlib==3.5.1->-r requirements.txt (line 4)) (9.2.0)\n",
      "Requirement already satisfied: pyparsing>=2.2.1 in /opt/conda/lib/python3.8/site-packages (from matplotlib==3.5.1->-r requirements.txt (line 4)) (3.0.9)\n",
      "Requirement already satisfied: python-dateutil>=2.7 in /opt/conda/lib/python3.8/site-packages (from matplotlib==3.5.1->-r requirements.txt (line 4)) (2.8.2)\n",
      "Requirement already satisfied: cycler>=0.10 in /opt/conda/lib/python3.8/site-packages (from matplotlib==3.5.1->-r requirements.txt (line 4)) (0.11.0)\n",
      "Requirement already satisfied: fonttools>=4.22.0 in /opt/conda/lib/python3.8/site-packages (from matplotlib==3.5.1->-r requirements.txt (line 4)) (4.38.0)\n",
      "Requirement already satisfied: pytz>=2017.3 in /opt/conda/lib/python3.8/site-packages (from pandas==1.3.5->-r requirements.txt (line 5)) (2022.7)\n",
      "Requirement already satisfied: threadpoolctl>=2.0.0 in /opt/conda/lib/python3.8/site-packages (from scikit_learn==1.2.1->-r requirements.txt (line 6)) (3.1.0)\n",
      "Requirement already satisfied: joblib>=1.1.1 in /opt/conda/lib/python3.8/site-packages (from scikit_learn==1.2.1->-r requirements.txt (line 6)) (1.2.0)\n",
      "Requirement already satisfied: pickleshare in /opt/conda/lib/python3.8/site-packages (from ipython->-r requirements.txt (line 1)) (0.7.5)\n",
      "Requirement already satisfied: jedi>=0.16 in /opt/conda/lib/python3.8/site-packages (from ipython->-r requirements.txt (line 1)) (0.18.2)\n",
      "Requirement already satisfied: decorator in /opt/conda/lib/python3.8/site-packages (from ipython->-r requirements.txt (line 1)) (5.1.1)\n",
      "Requirement already satisfied: stack-data in /opt/conda/lib/python3.8/site-packages (from ipython->-r requirements.txt (line 1)) (0.6.2)\n",
      "Requirement already satisfied: pygments>=2.4.0 in /opt/conda/lib/python3.8/site-packages (from ipython->-r requirements.txt (line 1)) (2.14.0)\n",
      "Requirement already satisfied: backcall in /opt/conda/lib/python3.8/site-packages (from ipython->-r requirements.txt (line 1)) (0.2.0)\n",
      "Requirement already satisfied: traitlets>=5 in /opt/conda/lib/python3.8/site-packages (from ipython->-r requirements.txt (line 1)) (5.8.0)\n",
      "Requirement already satisfied: pexpect>4.3 in /opt/conda/lib/python3.8/site-packages (from ipython->-r requirements.txt (line 1)) (4.8.0)\n",
      "Requirement already satisfied: prompt-toolkit<3.1.0,>=3.0.11 in /opt/conda/lib/python3.8/site-packages (from ipython->-r requirements.txt (line 1)) (3.0.29)\n",
      "Requirement already satisfied: matplotlib-inline in /opt/conda/lib/python3.8/site-packages (from ipython->-r requirements.txt (line 1)) (0.1.6)\n",
      "Requirement already satisfied: parso<0.9.0,>=0.8.0 in /opt/conda/lib/python3.8/site-packages (from jedi>=0.16->ipython->-r requirements.txt (line 1)) (0.8.3)\n",
      "Requirement already satisfied: ptyprocess>=0.5 in /opt/conda/lib/python3.8/site-packages (from pexpect>4.3->ipython->-r requirements.txt (line 1)) (0.7.0)\n",
      "Requirement already satisfied: wcwidth in /opt/conda/lib/python3.8/site-packages (from prompt-toolkit<3.1.0,>=3.0.11->ipython->-r requirements.txt (line 1)) (0.2.5)\n",
      "Requirement already satisfied: six>=1.5 in /opt/conda/lib/python3.8/site-packages (from python-dateutil>=2.7->matplotlib==3.5.1->-r requirements.txt (line 4)) (1.16.0)\n",
      "Requirement already satisfied: charset-normalizer~=2.0.0 in /opt/conda/lib/python3.8/site-packages (from requests->lightfm==1.16->-r requirements.txt (line 3)) (2.0.4)\n",
      "Requirement already satisfied: certifi>=2017.4.17 in /opt/conda/lib/python3.8/site-packages (from requests->lightfm==1.16->-r requirements.txt (line 3)) (2022.12.7)\n",
      "Requirement already satisfied: urllib3<1.27,>=1.21.1 in /opt/conda/lib/python3.8/site-packages (from requests->lightfm==1.16->-r requirements.txt (line 3)) (1.26.8)\n",
      "Requirement already satisfied: idna<4,>=2.5 in /opt/conda/lib/python3.8/site-packages (from requests->lightfm==1.16->-r requirements.txt (line 3)) (3.3)\n",
      "Requirement already satisfied: pure-eval in /opt/conda/lib/python3.8/site-packages (from stack-data->ipython->-r requirements.txt (line 1)) (0.2.2)\n",
      "Requirement already satisfied: executing>=1.2.0 in /opt/conda/lib/python3.8/site-packages (from stack-data->ipython->-r requirements.txt (line 1)) (1.2.0)\n",
      "Requirement already satisfied: asttokens>=2.1.0 in /opt/conda/lib/python3.8/site-packages (from stack-data->ipython->-r requirements.txt (line 1)) (2.2.1)\n"
     ]
    }
   ],
   "source": [
    "!pip install -r requirements.txt"
   ]
  },
  {
   "cell_type": "markdown",
   "id": "2e840e9e",
   "metadata": {},
   "source": [
    "## 2.1 Import external libs"
   ]
  },
  {
   "cell_type": "code",
   "execution_count": 2,
   "id": "1953c23d",
   "metadata": {},
   "outputs": [],
   "source": [
    "import sys\n",
    "import os\n",
    "import pandas as pd\n",
    "import numpy as np\n",
    "from itertools import islice\n",
    "import seaborn as sns\n",
    "import matplotlib.pyplot as plt\n",
    "from IPython.display import HTML"
   ]
  },
  {
   "cell_type": "markdown",
   "id": "980ddecf",
   "metadata": {},
   "source": [
    "## 2.2 Import internal libs"
   ]
  },
  {
   "cell_type": "code",
   "execution_count": 3,
   "id": "f2874b20",
   "metadata": {},
   "outputs": [],
   "source": [
    "sys.path.append(os.path.abspath(\"../\"))\n",
    "from src.data_processing_utilities import (build_interaction_matrix, build_user_dict,\n",
    "                                           build_item_dict, data_preprocessing_implicit_feedback, \n",
    "                                           create_train_test_data)\n",
    "\n",
    "from src.rec_sys import (fit_model, recommendations_items_for_user,\n",
    "                         recommendations_users_for_item, embedding_matrix,\n",
    "                         recommendations_items_for_item)\n",
    "\n",
    "from src.metric_utilities import model_metrics"
   ]
  },
  {
   "cell_type": "markdown",
   "id": "ea9d2ce7",
   "metadata": {},
   "source": [
    "# 3. Define constant variables"
   ]
  },
  {
   "cell_type": "code",
   "execution_count": 4,
   "id": "322c98d4",
   "metadata": {},
   "outputs": [],
   "source": [
    "SEED = 44\n",
    "TEST_PERCENTAGE = 0.3\n",
    "sns.set(font_scale=2)\n",
    "pd.options.display.float_format = '{:,.2f}'.format"
   ]
  },
  {
   "cell_type": "markdown",
   "id": "5b0cf2a9",
   "metadata": {},
   "source": [
    "# 4. Product recommendation with Explicit Feedback"
   ]
  },
  {
   "cell_type": "markdown",
   "id": "aed2ae64",
   "metadata": {},
   "source": [
    "Typically, we have two type of data for building a recommendation system:\n",
    "\n",
    "- Explicit feedback: Explicit feedback data contains user explicit feedback(ratings etc) about a product. It tells directly that users like a product or not.\n",
    "- Implicit feedback: In implicit feedback, we don't have the data about how the user rates a product. Examples for implicit feedback are clicks, watched movies, played songs, purchases or assigned tags.\n",
    "\n",
    "The recommendation model depends whether we have implicit or explicit feedback data. In this notebook we will build model for both cases. "
   ]
  },
  {
   "cell_type": "markdown",
   "id": "650ccca1",
   "metadata": {},
   "source": [
    "## 4.1 Import Data & Exploratory Data Analysis"
   ]
  },
  {
   "cell_type": "markdown",
   "id": "a69616bf",
   "metadata": {},
   "source": [
    "- We have provided sample data with notebook to run this notebook. This sample data is based on the [MovieLens data](https://grouplens.org/datasets/movielens/).\n",
    "- The sample data is only for illustration purpuse and shows typical data with explicit feadback. \n",
    "- Please update the below data path to point to the location of data.  "
   ]
  },
  {
   "cell_type": "code",
   "execution_count": 5,
   "id": "8d72b409",
   "metadata": {},
   "outputs": [
    {
     "data": {
      "text/html": [
       "<div>\n",
       "<style scoped>\n",
       "    .dataframe tbody tr th:only-of-type {\n",
       "        vertical-align: middle;\n",
       "    }\n",
       "\n",
       "    .dataframe tbody tr th {\n",
       "        vertical-align: top;\n",
       "    }\n",
       "\n",
       "    .dataframe thead th {\n",
       "        text-align: right;\n",
       "    }\n",
       "</style>\n",
       "<table border=\"1\" class=\"dataframe\">\n",
       "  <thead>\n",
       "    <tr style=\"text-align: right;\">\n",
       "      <th></th>\n",
       "      <th>userId</th>\n",
       "      <th>productId</th>\n",
       "      <th>rating</th>\n",
       "      <th>timestamp</th>\n",
       "    </tr>\n",
       "  </thead>\n",
       "  <tbody>\n",
       "    <tr>\n",
       "      <th>0</th>\n",
       "      <td>1</td>\n",
       "      <td>31</td>\n",
       "      <td>2.50</td>\n",
       "      <td>1260759144</td>\n",
       "    </tr>\n",
       "    <tr>\n",
       "      <th>1</th>\n",
       "      <td>1</td>\n",
       "      <td>1029</td>\n",
       "      <td>3.00</td>\n",
       "      <td>1260759179</td>\n",
       "    </tr>\n",
       "    <tr>\n",
       "      <th>2</th>\n",
       "      <td>1</td>\n",
       "      <td>1061</td>\n",
       "      <td>3.00</td>\n",
       "      <td>1260759182</td>\n",
       "    </tr>\n",
       "    <tr>\n",
       "      <th>3</th>\n",
       "      <td>1</td>\n",
       "      <td>1129</td>\n",
       "      <td>2.00</td>\n",
       "      <td>1260759185</td>\n",
       "    </tr>\n",
       "    <tr>\n",
       "      <th>4</th>\n",
       "      <td>1</td>\n",
       "      <td>1172</td>\n",
       "      <td>4.00</td>\n",
       "      <td>1260759205</td>\n",
       "    </tr>\n",
       "  </tbody>\n",
       "</table>\n",
       "</div>"
      ],
      "text/plain": [
       "  userId productId  rating   timestamp\n",
       "0      1        31    2.50  1260759144\n",
       "1      1      1029    3.00  1260759179\n",
       "2      1      1061    3.00  1260759182\n",
       "3      1      1129    2.00  1260759185\n",
       "4      1      1172    4.00  1260759205"
      ]
     },
     "execution_count": 5,
     "metadata": {},
     "output_type": "execute_result"
    }
   ],
   "source": [
    "data_sample = pd.read_csv('clickstream_data_sample.csv', \n",
    "                         dtype={\"userId\":str, \"productId\":str, \"rating\":float, \"timestamp\":str})\n",
    "data_sample.head()"
   ]
  },
  {
   "cell_type": "markdown",
   "id": "a1d6afe5",
   "metadata": {},
   "source": [
    "The features of data:\n",
    "- userId: ID of user. \n",
    "- productId:  item ID. We want to recommend items contained in this feature to users.\n",
    "- rating: rating of user for a item with productId.\n",
    "- timestamp: timestamp of user-item interaction.  "
   ]
  },
  {
   "cell_type": "code",
   "execution_count": 6,
   "id": "4ae11161",
   "metadata": {},
   "outputs": [
    {
     "data": {
      "text/plain": [
       "(40590, 4)"
      ]
     },
     "execution_count": 6,
     "metadata": {},
     "output_type": "execute_result"
    }
   ],
   "source": [
    "data_sample.shape"
   ]
  },
  {
   "cell_type": "code",
   "execution_count": 7,
   "id": "57ab2d8e",
   "metadata": {},
   "outputs": [
    {
     "data": {
      "text/html": [
       "<div>\n",
       "<style scoped>\n",
       "    .dataframe tbody tr th:only-of-type {\n",
       "        vertical-align: middle;\n",
       "    }\n",
       "\n",
       "    .dataframe tbody tr th {\n",
       "        vertical-align: top;\n",
       "    }\n",
       "\n",
       "    .dataframe thead th {\n",
       "        text-align: right;\n",
       "    }\n",
       "</style>\n",
       "<table border=\"1\" class=\"dataframe\">\n",
       "  <thead>\n",
       "    <tr style=\"text-align: right;\">\n",
       "      <th></th>\n",
       "      <th>count</th>\n",
       "      <th>mean</th>\n",
       "      <th>std</th>\n",
       "      <th>min</th>\n",
       "      <th>25%</th>\n",
       "      <th>50%</th>\n",
       "      <th>75%</th>\n",
       "      <th>max</th>\n",
       "    </tr>\n",
       "  </thead>\n",
       "  <tbody>\n",
       "    <tr>\n",
       "      <th>rating</th>\n",
       "      <td>40,590.00</td>\n",
       "      <td>3.52</td>\n",
       "      <td>1.07</td>\n",
       "      <td>0.50</td>\n",
       "      <td>3.00</td>\n",
       "      <td>4.00</td>\n",
       "      <td>4.00</td>\n",
       "      <td>5.00</td>\n",
       "    </tr>\n",
       "  </tbody>\n",
       "</table>\n",
       "</div>"
      ],
      "text/plain": [
       "           count  mean  std  min  25%  50%  75%  max\n",
       "rating 40,590.00  3.52 1.07 0.50 3.00 4.00 4.00 5.00"
      ]
     },
     "execution_count": 7,
     "metadata": {},
     "output_type": "execute_result"
    }
   ],
   "source": [
    "# This gives some statistic description of data. \n",
    "data_sample.describe().T"
   ]
  },
  {
   "cell_type": "code",
   "execution_count": 8,
   "id": "a8df62e1",
   "metadata": {},
   "outputs": [
    {
     "data": {
      "text/plain": [
       "userId      0.00\n",
       "productId   0.00\n",
       "rating      0.00\n",
       "timestamp   0.00\n",
       "dtype: float64"
      ]
     },
     "execution_count": 8,
     "metadata": {},
     "output_type": "execute_result"
    }
   ],
   "source": [
    "# Obtain the percentage of NaN in the data\n",
    "data_sample.isna().mean().sort_values(ascending=False)"
   ]
  },
  {
   "cell_type": "markdown",
   "id": "04eb416e",
   "metadata": {},
   "source": [
    "### 4.1.1 Deal with duplicates events"
   ]
  },
  {
   "cell_type": "code",
   "execution_count": 9,
   "id": "cc8de246",
   "metadata": {},
   "outputs": [
    {
     "data": {
      "text/plain": [
       "userId  productId  rating  timestamp \n",
       "1       1029       3.00    1260759179    2\n",
       "51      1948       4.00    974728763     2\n",
       "16      6016       4.00    1178364961    2\n",
       "        6711       4.50    1137578034    2\n",
       "        6874       3.50    1137577905    2\n",
       "                                        ..\n",
       "166     5349       4.00    1064887939    1\n",
       "        524        4.00    1064888483    1\n",
       "        4963       3.50    1064887933    1\n",
       "        4886       4.50    1064889159    1\n",
       "99      969        5.00    938588142     1\n",
       "Length: 27707, dtype: int64"
      ]
     },
     "execution_count": 9,
     "metadata": {},
     "output_type": "execute_result"
    }
   ],
   "source": [
    "# This gives counting of different unique values. \n",
    "data_sample.value_counts()"
   ]
  },
  {
   "cell_type": "code",
   "execution_count": 10,
   "id": "846aa1a8",
   "metadata": {},
   "outputs": [
    {
     "data": {
      "text/plain": [
       "12883"
      ]
     },
     "execution_count": 10,
     "metadata": {},
     "output_type": "execute_result"
    }
   ],
   "source": [
    "# Count number of duplicated rows\n",
    "len(data_sample)-len(data_sample.drop_duplicates())"
   ]
  },
  {
   "cell_type": "code",
   "execution_count": 11,
   "id": "4cee44b6",
   "metadata": {},
   "outputs": [
    {
     "data": {
      "text/plain": [
       "(27707, 4)"
      ]
     },
     "execution_count": 11,
     "metadata": {},
     "output_type": "execute_result"
    }
   ],
   "source": [
    "# Dropping duplicated events\n",
    "data_sample.drop_duplicates(ignore_index=True, inplace=True)\n",
    "data_sample.shape"
   ]
  },
  {
   "cell_type": "code",
   "execution_count": 12,
   "id": "3fd54ba5",
   "metadata": {},
   "outputs": [
    {
     "data": {
      "image/png": "[encoded data removed]",
      "text/plain": [
       "<Figure size 1000x500 with 1 Axes>"
      ]
     },
     "metadata": {},
     "output_type": "display_data"
    }
   ],
   "source": [
    "# counting of value of rating. It is seen rating = 4 is the most common rating. \n",
    "fig, ax = plt.subplots(figsize=(10, 5))\n",
    "sns.countplot(x = 'rating', data = data_sample, palette = 'Greens_d');"
   ]
  },
  {
   "cell_type": "code",
   "execution_count": 13,
   "id": "61e30092",
   "metadata": {},
   "outputs": [
    {
     "data": {
      "image/png": "[encoded data removed]",
      "text/plain": [
       "<Figure size 1000x500 with 1 Axes>"
      ]
     },
     "metadata": {},
     "output_type": "display_data"
    }
   ],
   "source": [
    "# Frequency distribution of clicks per user. It looks like only few users have more than 500 clicks while most users have clicks <30\n",
    "data_sample['userId'].value_counts().hist(bins=70, figsize=(10, 5))\n",
    "plt.title('Frequency distribution of clicks per user')\n",
    "plt.ylabel('userId')\n",
    "plt.xlabel('count')\n",
    "plt.show()"
   ]
  },
  {
   "cell_type": "markdown",
   "id": "d785d0a1",
   "metadata": {},
   "source": [
    "### 4.1.2 Import meta data for product ID"
   ]
  },
  {
   "cell_type": "markdown",
   "id": "469e89eb",
   "metadata": {},
   "source": [
    "Here we import meta data for items. We can equally import meta data for user. These meta data will be later used in modeling. The meta data will be crucial for the cold-start problem where we do not have enough historical clickstream data. "
   ]
  },
  {
   "cell_type": "code",
   "execution_count": 14,
   "id": "1dd980cb",
   "metadata": {},
   "outputs": [
    {
     "data": {
      "text/plain": [
       "(9125, 3)"
      ]
     },
     "execution_count": 14,
     "metadata": {},
     "output_type": "execute_result"
    }
   ],
   "source": [
    "product_name_sample = pd.read_csv('name_items.csv', \n",
    "                                 dtype={\"productId\":str, \"title\":str, \"genre\":str})\n",
    "product_name_sample.shape"
   ]
  },
  {
   "cell_type": "code",
   "execution_count": 15,
   "id": "44275b0b",
   "metadata": {},
   "outputs": [
    {
     "data": {
      "text/html": [
       "<div>\n",
       "<style scoped>\n",
       "    .dataframe tbody tr th:only-of-type {\n",
       "        vertical-align: middle;\n",
       "    }\n",
       "\n",
       "    .dataframe tbody tr th {\n",
       "        vertical-align: top;\n",
       "    }\n",
       "\n",
       "    .dataframe thead th {\n",
       "        text-align: right;\n",
       "    }\n",
       "</style>\n",
       "<table border=\"1\" class=\"dataframe\">\n",
       "  <thead>\n",
       "    <tr style=\"text-align: right;\">\n",
       "      <th></th>\n",
       "      <th>productId</th>\n",
       "      <th>title</th>\n",
       "      <th>genres</th>\n",
       "    </tr>\n",
       "  </thead>\n",
       "  <tbody>\n",
       "    <tr>\n",
       "      <th>0</th>\n",
       "      <td>1</td>\n",
       "      <td>Toy Story (1995)</td>\n",
       "      <td>Adventure|Animation|Children|Comedy|Fantasy</td>\n",
       "    </tr>\n",
       "    <tr>\n",
       "      <th>1</th>\n",
       "      <td>2</td>\n",
       "      <td>Jumanji (1995)</td>\n",
       "      <td>Adventure|Children|Fantasy</td>\n",
       "    </tr>\n",
       "    <tr>\n",
       "      <th>2</th>\n",
       "      <td>3</td>\n",
       "      <td>Grumpier Old Men (1995)</td>\n",
       "      <td>Comedy|Romance</td>\n",
       "    </tr>\n",
       "    <tr>\n",
       "      <th>3</th>\n",
       "      <td>4</td>\n",
       "      <td>Waiting to Exhale (1995)</td>\n",
       "      <td>Comedy|Drama|Romance</td>\n",
       "    </tr>\n",
       "    <tr>\n",
       "      <th>4</th>\n",
       "      <td>5</td>\n",
       "      <td>Father of the Bride Part II (1995)</td>\n",
       "      <td>Comedy</td>\n",
       "    </tr>\n",
       "  </tbody>\n",
       "</table>\n",
       "</div>"
      ],
      "text/plain": [
       "  productId                               title  \\\n",
       "0         1                    Toy Story (1995)   \n",
       "1         2                      Jumanji (1995)   \n",
       "2         3             Grumpier Old Men (1995)   \n",
       "3         4            Waiting to Exhale (1995)   \n",
       "4         5  Father of the Bride Part II (1995)   \n",
       "\n",
       "                                        genres  \n",
       "0  Adventure|Animation|Children|Comedy|Fantasy  \n",
       "1                   Adventure|Children|Fantasy  \n",
       "2                               Comedy|Romance  \n",
       "3                         Comedy|Drama|Romance  \n",
       "4                                       Comedy  "
      ]
     },
     "execution_count": 15,
     "metadata": {},
     "output_type": "execute_result"
    }
   ],
   "source": [
    "product_name_sample.head()"
   ]
  },
  {
   "cell_type": "markdown",
   "id": "97ee51ad",
   "metadata": {},
   "source": [
    "The features of data:\n",
    "- productId: id of items\n",
    "- title: name or title of items\n",
    "- genres: genre of items"
   ]
  },
  {
   "cell_type": "markdown",
   "id": "7cd5706b",
   "metadata": {},
   "source": [
    "## 4.2 Data Preprocessing"
   ]
  },
  {
   "cell_type": "markdown",
   "id": "275e4fde",
   "metadata": {},
   "source": [
    "### 4.2.1 Build Interaction Matrix "
   ]
  },
  {
   "cell_type": "markdown",
   "id": "96a2e2f8",
   "metadata": {},
   "source": [
    "Before fitting a recommendation model, we need to create an interaction matrix from transactional type interactions. This will be essential steps for most of recommendation type model like LightFM. \n",
    "Below, we build the intercation matrix passing the following parameters:\n",
    "- norm: optional, True if a normalization of ratings is needed.\n",
    "- threshold: value above which the rating is favorable. It is used if norm = True.\n",
    "- nice_printing: If True (default) it prints some information."
   ]
  },
  {
   "cell_type": "code",
   "execution_count": 16,
   "id": "78c608a8",
   "metadata": {},
   "outputs": [
    {
     "name": "stdout",
     "output_type": "stream",
     "text": [
      "Number of unique user in data: 201\n",
      "Number of unique product Id in data: 5217\n"
     ]
    },
    {
     "data": {
      "text/html": [
       "<div>\n",
       "<style scoped>\n",
       "    .dataframe tbody tr th:only-of-type {\n",
       "        vertical-align: middle;\n",
       "    }\n",
       "\n",
       "    .dataframe tbody tr th {\n",
       "        vertical-align: top;\n",
       "    }\n",
       "\n",
       "    .dataframe thead th {\n",
       "        text-align: right;\n",
       "    }\n",
       "</style>\n",
       "<table border=\"1\" class=\"dataframe\">\n",
       "  <thead>\n",
       "    <tr style=\"text-align: right;\">\n",
       "      <th>productId</th>\n",
       "      <th>1</th>\n",
       "      <th>10</th>\n",
       "      <th>100</th>\n",
       "      <th>100032</th>\n",
       "      <th>100034</th>\n",
       "      <th>100083</th>\n",
       "      <th>100159</th>\n",
       "      <th>100272</th>\n",
       "      <th>1003</th>\n",
       "      <th>100365</th>\n",
       "      <th>...</th>\n",
       "      <th>99149</th>\n",
       "      <th>99320</th>\n",
       "      <th>994</th>\n",
       "      <th>99468</th>\n",
       "      <th>996</th>\n",
       "      <th>99728</th>\n",
       "      <th>99764</th>\n",
       "      <th>99811</th>\n",
       "      <th>999</th>\n",
       "      <th>99917</th>\n",
       "    </tr>\n",
       "    <tr>\n",
       "      <th>userId</th>\n",
       "      <th></th>\n",
       "      <th></th>\n",
       "      <th></th>\n",
       "      <th></th>\n",
       "      <th></th>\n",
       "      <th></th>\n",
       "      <th></th>\n",
       "      <th></th>\n",
       "      <th></th>\n",
       "      <th></th>\n",
       "      <th></th>\n",
       "      <th></th>\n",
       "      <th></th>\n",
       "      <th></th>\n",
       "      <th></th>\n",
       "      <th></th>\n",
       "      <th></th>\n",
       "      <th></th>\n",
       "      <th></th>\n",
       "      <th></th>\n",
       "      <th></th>\n",
       "    </tr>\n",
       "  </thead>\n",
       "  <tbody>\n",
       "    <tr>\n",
       "      <th>1</th>\n",
       "      <td>0.00</td>\n",
       "      <td>0.00</td>\n",
       "      <td>0.00</td>\n",
       "      <td>0.00</td>\n",
       "      <td>0.00</td>\n",
       "      <td>0.00</td>\n",
       "      <td>0.00</td>\n",
       "      <td>0.00</td>\n",
       "      <td>0.00</td>\n",
       "      <td>0.00</td>\n",
       "      <td>...</td>\n",
       "      <td>0.00</td>\n",
       "      <td>0.00</td>\n",
       "      <td>0.00</td>\n",
       "      <td>0.00</td>\n",
       "      <td>0.00</td>\n",
       "      <td>0.00</td>\n",
       "      <td>0.00</td>\n",
       "      <td>0.00</td>\n",
       "      <td>0.00</td>\n",
       "      <td>0.00</td>\n",
       "    </tr>\n",
       "    <tr>\n",
       "      <th>10</th>\n",
       "      <td>0.00</td>\n",
       "      <td>0.00</td>\n",
       "      <td>0.00</td>\n",
       "      <td>0.00</td>\n",
       "      <td>0.00</td>\n",
       "      <td>0.00</td>\n",
       "      <td>0.00</td>\n",
       "      <td>0.00</td>\n",
       "      <td>0.00</td>\n",
       "      <td>0.00</td>\n",
       "      <td>...</td>\n",
       "      <td>0.00</td>\n",
       "      <td>0.00</td>\n",
       "      <td>0.00</td>\n",
       "      <td>0.00</td>\n",
       "      <td>0.00</td>\n",
       "      <td>0.00</td>\n",
       "      <td>0.00</td>\n",
       "      <td>0.00</td>\n",
       "      <td>0.00</td>\n",
       "      <td>0.00</td>\n",
       "    </tr>\n",
       "    <tr>\n",
       "      <th>100</th>\n",
       "      <td>1.00</td>\n",
       "      <td>0.00</td>\n",
       "      <td>0.00</td>\n",
       "      <td>0.00</td>\n",
       "      <td>0.00</td>\n",
       "      <td>0.00</td>\n",
       "      <td>0.00</td>\n",
       "      <td>0.00</td>\n",
       "      <td>0.00</td>\n",
       "      <td>0.00</td>\n",
       "      <td>...</td>\n",
       "      <td>0.00</td>\n",
       "      <td>0.00</td>\n",
       "      <td>0.00</td>\n",
       "      <td>0.00</td>\n",
       "      <td>0.00</td>\n",
       "      <td>0.00</td>\n",
       "      <td>0.00</td>\n",
       "      <td>0.00</td>\n",
       "      <td>0.00</td>\n",
       "      <td>0.00</td>\n",
       "    </tr>\n",
       "    <tr>\n",
       "      <th>101</th>\n",
       "      <td>0.00</td>\n",
       "      <td>0.00</td>\n",
       "      <td>0.00</td>\n",
       "      <td>0.00</td>\n",
       "      <td>0.00</td>\n",
       "      <td>0.00</td>\n",
       "      <td>0.00</td>\n",
       "      <td>0.00</td>\n",
       "      <td>0.00</td>\n",
       "      <td>0.00</td>\n",
       "      <td>...</td>\n",
       "      <td>0.00</td>\n",
       "      <td>0.00</td>\n",
       "      <td>0.00</td>\n",
       "      <td>0.00</td>\n",
       "      <td>0.00</td>\n",
       "      <td>0.00</td>\n",
       "      <td>0.00</td>\n",
       "      <td>0.00</td>\n",
       "      <td>0.00</td>\n",
       "      <td>0.00</td>\n",
       "    </tr>\n",
       "    <tr>\n",
       "      <th>102</th>\n",
       "      <td>0.00</td>\n",
       "      <td>0.00</td>\n",
       "      <td>0.00</td>\n",
       "      <td>0.00</td>\n",
       "      <td>0.00</td>\n",
       "      <td>0.00</td>\n",
       "      <td>0.00</td>\n",
       "      <td>0.00</td>\n",
       "      <td>0.00</td>\n",
       "      <td>0.00</td>\n",
       "      <td>...</td>\n",
       "      <td>0.00</td>\n",
       "      <td>0.00</td>\n",
       "      <td>1.00</td>\n",
       "      <td>0.00</td>\n",
       "      <td>0.00</td>\n",
       "      <td>0.00</td>\n",
       "      <td>0.00</td>\n",
       "      <td>0.00</td>\n",
       "      <td>0.00</td>\n",
       "      <td>0.00</td>\n",
       "    </tr>\n",
       "  </tbody>\n",
       "</table>\n",
       "<p>5 rows × 5217 columns</p>\n",
       "</div>"
      ],
      "text/plain": [
       "productId    1   10  100  100032  100034  100083  100159  100272  1003  \\\n",
       "userId                                                                   \n",
       "1         0.00 0.00 0.00    0.00    0.00    0.00    0.00    0.00  0.00   \n",
       "10        0.00 0.00 0.00    0.00    0.00    0.00    0.00    0.00  0.00   \n",
       "100       1.00 0.00 0.00    0.00    0.00    0.00    0.00    0.00  0.00   \n",
       "101       0.00 0.00 0.00    0.00    0.00    0.00    0.00    0.00  0.00   \n",
       "102       0.00 0.00 0.00    0.00    0.00    0.00    0.00    0.00  0.00   \n",
       "\n",
       "productId  100365  ...  99149  99320  994  99468  996  99728  99764  99811  \\\n",
       "userId             ...                                                       \n",
       "1            0.00  ...   0.00   0.00 0.00   0.00 0.00   0.00   0.00   0.00   \n",
       "10           0.00  ...   0.00   0.00 0.00   0.00 0.00   0.00   0.00   0.00   \n",
       "100          0.00  ...   0.00   0.00 0.00   0.00 0.00   0.00   0.00   0.00   \n",
       "101          0.00  ...   0.00   0.00 0.00   0.00 0.00   0.00   0.00   0.00   \n",
       "102          0.00  ...   0.00   0.00 1.00   0.00 0.00   0.00   0.00   0.00   \n",
       "\n",
       "productId  999  99917  \n",
       "userId                 \n",
       "1         0.00   0.00  \n",
       "10        0.00   0.00  \n",
       "100       0.00   0.00  \n",
       "101       0.00   0.00  \n",
       "102       0.00   0.00  \n",
       "\n",
       "[5 rows x 5217 columns]"
      ]
     },
     "execution_count": 16,
     "metadata": {},
     "output_type": "execute_result"
    }
   ],
   "source": [
    "interactions = build_interaction_matrix(data_sample, \n",
    "                                        \"userId\", \n",
    "                                        \"productId\", \n",
    "                                        \"rating\", \n",
    "                                         norm=True, \n",
    "                                         threshold= 3)\n",
    "interactions.head()"
   ]
  },
  {
   "cell_type": "markdown",
   "id": "ed546a5d",
   "metadata": {},
   "source": [
    "### 4.2.2 Split data to train and test"
   ]
  },
  {
   "cell_type": "markdown",
   "id": "89a843b6",
   "metadata": {},
   "source": [
    "Note that recommendation models such as LightLM works differently compared to other ML models as it expects the train and test sets to have the same dimension. Therefore the conventional train test split may not work. \n",
    "- In the below we create train and test data as pandas DataFrame and also sparse COO matrix. \n",
    "- Note that `create_train_test_data` method does not validate the interactions in the test set contain items and users that have historical interactions in the training set. Therefore this may result into a partial cold-start problem in the test set. We will later deal with this issue.  \n"
   ]
  },
  {
   "cell_type": "code",
   "execution_count": 17,
   "id": "8c6d3823",
   "metadata": {},
   "outputs": [
    {
     "name": "stdout",
     "output_type": "stream",
     "text": [
      "Shape of train interaction data: (201, 5217)\n",
      "Shape of test interaction data: (201, 5217)\n"
     ]
    },
    {
     "data": {
      "text/html": [
       "<div>\n",
       "<style scoped>\n",
       "    .dataframe tbody tr th:only-of-type {\n",
       "        vertical-align: middle;\n",
       "    }\n",
       "\n",
       "    .dataframe tbody tr th {\n",
       "        vertical-align: top;\n",
       "    }\n",
       "\n",
       "    .dataframe thead th {\n",
       "        text-align: right;\n",
       "    }\n",
       "</style>\n",
       "<table border=\"1\" class=\"dataframe\">\n",
       "  <thead>\n",
       "    <tr style=\"text-align: right;\">\n",
       "      <th>productId</th>\n",
       "      <th>1</th>\n",
       "      <th>10</th>\n",
       "      <th>100</th>\n",
       "      <th>100032</th>\n",
       "      <th>100034</th>\n",
       "      <th>100083</th>\n",
       "      <th>100159</th>\n",
       "      <th>100272</th>\n",
       "      <th>1003</th>\n",
       "      <th>100365</th>\n",
       "      <th>...</th>\n",
       "      <th>99149</th>\n",
       "      <th>99320</th>\n",
       "      <th>994</th>\n",
       "      <th>99468</th>\n",
       "      <th>996</th>\n",
       "      <th>99728</th>\n",
       "      <th>99764</th>\n",
       "      <th>99811</th>\n",
       "      <th>999</th>\n",
       "      <th>99917</th>\n",
       "    </tr>\n",
       "    <tr>\n",
       "      <th>userId</th>\n",
       "      <th></th>\n",
       "      <th></th>\n",
       "      <th></th>\n",
       "      <th></th>\n",
       "      <th></th>\n",
       "      <th></th>\n",
       "      <th></th>\n",
       "      <th></th>\n",
       "      <th></th>\n",
       "      <th></th>\n",
       "      <th></th>\n",
       "      <th></th>\n",
       "      <th></th>\n",
       "      <th></th>\n",
       "      <th></th>\n",
       "      <th></th>\n",
       "      <th></th>\n",
       "      <th></th>\n",
       "      <th></th>\n",
       "      <th></th>\n",
       "      <th></th>\n",
       "    </tr>\n",
       "  </thead>\n",
       "  <tbody>\n",
       "    <tr>\n",
       "      <th>1</th>\n",
       "      <td>0.00</td>\n",
       "      <td>0.00</td>\n",
       "      <td>0.00</td>\n",
       "      <td>0.00</td>\n",
       "      <td>0.00</td>\n",
       "      <td>0.00</td>\n",
       "      <td>0.00</td>\n",
       "      <td>0.00</td>\n",
       "      <td>0.00</td>\n",
       "      <td>0.00</td>\n",
       "      <td>...</td>\n",
       "      <td>0.00</td>\n",
       "      <td>0.00</td>\n",
       "      <td>0.00</td>\n",
       "      <td>0.00</td>\n",
       "      <td>0.00</td>\n",
       "      <td>0.00</td>\n",
       "      <td>0.00</td>\n",
       "      <td>0.00</td>\n",
       "      <td>0.00</td>\n",
       "      <td>0.00</td>\n",
       "    </tr>\n",
       "    <tr>\n",
       "      <th>10</th>\n",
       "      <td>0.00</td>\n",
       "      <td>0.00</td>\n",
       "      <td>0.00</td>\n",
       "      <td>0.00</td>\n",
       "      <td>0.00</td>\n",
       "      <td>0.00</td>\n",
       "      <td>0.00</td>\n",
       "      <td>0.00</td>\n",
       "      <td>0.00</td>\n",
       "      <td>0.00</td>\n",
       "      <td>...</td>\n",
       "      <td>0.00</td>\n",
       "      <td>0.00</td>\n",
       "      <td>0.00</td>\n",
       "      <td>0.00</td>\n",
       "      <td>0.00</td>\n",
       "      <td>0.00</td>\n",
       "      <td>0.00</td>\n",
       "      <td>0.00</td>\n",
       "      <td>0.00</td>\n",
       "      <td>0.00</td>\n",
       "    </tr>\n",
       "    <tr>\n",
       "      <th>100</th>\n",
       "      <td>0.00</td>\n",
       "      <td>0.00</td>\n",
       "      <td>0.00</td>\n",
       "      <td>0.00</td>\n",
       "      <td>0.00</td>\n",
       "      <td>0.00</td>\n",
       "      <td>0.00</td>\n",
       "      <td>0.00</td>\n",
       "      <td>0.00</td>\n",
       "      <td>0.00</td>\n",
       "      <td>...</td>\n",
       "      <td>0.00</td>\n",
       "      <td>0.00</td>\n",
       "      <td>0.00</td>\n",
       "      <td>0.00</td>\n",
       "      <td>0.00</td>\n",
       "      <td>0.00</td>\n",
       "      <td>0.00</td>\n",
       "      <td>0.00</td>\n",
       "      <td>0.00</td>\n",
       "      <td>0.00</td>\n",
       "    </tr>\n",
       "    <tr>\n",
       "      <th>101</th>\n",
       "      <td>0.00</td>\n",
       "      <td>0.00</td>\n",
       "      <td>0.00</td>\n",
       "      <td>0.00</td>\n",
       "      <td>0.00</td>\n",
       "      <td>0.00</td>\n",
       "      <td>0.00</td>\n",
       "      <td>0.00</td>\n",
       "      <td>0.00</td>\n",
       "      <td>0.00</td>\n",
       "      <td>...</td>\n",
       "      <td>0.00</td>\n",
       "      <td>0.00</td>\n",
       "      <td>0.00</td>\n",
       "      <td>0.00</td>\n",
       "      <td>0.00</td>\n",
       "      <td>0.00</td>\n",
       "      <td>0.00</td>\n",
       "      <td>0.00</td>\n",
       "      <td>0.00</td>\n",
       "      <td>0.00</td>\n",
       "    </tr>\n",
       "    <tr>\n",
       "      <th>102</th>\n",
       "      <td>0.00</td>\n",
       "      <td>0.00</td>\n",
       "      <td>0.00</td>\n",
       "      <td>0.00</td>\n",
       "      <td>0.00</td>\n",
       "      <td>0.00</td>\n",
       "      <td>0.00</td>\n",
       "      <td>0.00</td>\n",
       "      <td>0.00</td>\n",
       "      <td>0.00</td>\n",
       "      <td>...</td>\n",
       "      <td>0.00</td>\n",
       "      <td>0.00</td>\n",
       "      <td>0.00</td>\n",
       "      <td>0.00</td>\n",
       "      <td>0.00</td>\n",
       "      <td>0.00</td>\n",
       "      <td>0.00</td>\n",
       "      <td>0.00</td>\n",
       "      <td>0.00</td>\n",
       "      <td>0.00</td>\n",
       "    </tr>\n",
       "  </tbody>\n",
       "</table>\n",
       "<p>5 rows × 5217 columns</p>\n",
       "</div>"
      ],
      "text/plain": [
       "productId    1   10  100  100032  100034  100083  100159  100272  1003  \\\n",
       "userId                                                                   \n",
       "1         0.00 0.00 0.00    0.00    0.00    0.00    0.00    0.00  0.00   \n",
       "10        0.00 0.00 0.00    0.00    0.00    0.00    0.00    0.00  0.00   \n",
       "100       0.00 0.00 0.00    0.00    0.00    0.00    0.00    0.00  0.00   \n",
       "101       0.00 0.00 0.00    0.00    0.00    0.00    0.00    0.00  0.00   \n",
       "102       0.00 0.00 0.00    0.00    0.00    0.00    0.00    0.00  0.00   \n",
       "\n",
       "productId  100365  ...  99149  99320  994  99468  996  99728  99764  99811  \\\n",
       "userId             ...                                                       \n",
       "1            0.00  ...   0.00   0.00 0.00   0.00 0.00   0.00   0.00   0.00   \n",
       "10           0.00  ...   0.00   0.00 0.00   0.00 0.00   0.00   0.00   0.00   \n",
       "100          0.00  ...   0.00   0.00 0.00   0.00 0.00   0.00   0.00   0.00   \n",
       "101          0.00  ...   0.00   0.00 0.00   0.00 0.00   0.00   0.00   0.00   \n",
       "102          0.00  ...   0.00   0.00 0.00   0.00 0.00   0.00   0.00   0.00   \n",
       "\n",
       "productId  999  99917  \n",
       "userId                 \n",
       "1         0.00   0.00  \n",
       "10        0.00   0.00  \n",
       "100       0.00   0.00  \n",
       "101       0.00   0.00  \n",
       "102       0.00   0.00  \n",
       "\n",
       "[5 rows x 5217 columns]"
      ]
     },
     "execution_count": 17,
     "metadata": {},
     "output_type": "execute_result"
    }
   ],
   "source": [
    "train_pd, test_pd, train_interactions, test_interactions = create_train_test_data(interactions,\n",
    "                                                                                  TEST_PERCENTAGE, \n",
    "                                                                                  nice_print = True)\n",
    "train_pd.head()"
   ]
  },
  {
   "cell_type": "markdown",
   "id": "a182e346",
   "metadata": {},
   "source": [
    "### 4.2.3 Build User and item dictionaries"
   ]
  },
  {
   "cell_type": "markdown",
   "id": "e9eee56d",
   "metadata": {},
   "source": [
    "In the following we create auxiliary dictionary which create a mapping between internal index of user and external use_id. This will be needed for recommendation models such as LightFM. "
   ]
  },
  {
   "cell_type": "code",
   "execution_count": 18,
   "id": "d77be141",
   "metadata": {},
   "outputs": [
    {
     "data": {
      "text/plain": [
       "[('1', 0),\n",
       " ('10', 1),\n",
       " ('100', 2),\n",
       " ('101', 3),\n",
       " ('102', 4),\n",
       " ('103', 5),\n",
       " ('104', 6),\n",
       " ('105', 7),\n",
       " ('106', 8),\n",
       " ('107', 9)]"
      ]
     },
     "execution_count": 18,
     "metadata": {},
     "output_type": "execute_result"
    }
   ],
   "source": [
    "users_dict_train= build_user_dict(train_pd) \n",
    "#showing the first 10 mapping\n",
    "list(islice(users_dict_train.items(), 10))"
   ]
  },
  {
   "cell_type": "markdown",
   "id": "09dfa92e",
   "metadata": {},
   "source": [
    "In the following we create auxiliary dictionary to map item id to the name of item using meta data. "
   ]
  },
  {
   "cell_type": "code",
   "execution_count": 19,
   "id": "481fcd7d",
   "metadata": {},
   "outputs": [
    {
     "data": {
      "text/plain": [
       "[('1', 'Toy Story (1995)'),\n",
       " ('2', 'Jumanji (1995)'),\n",
       " ('3', 'Grumpier Old Men (1995)'),\n",
       " ('4', 'Waiting to Exhale (1995)'),\n",
       " ('5', 'Father of the Bride Part II (1995)'),\n",
       " ('6', 'Heat (1995)'),\n",
       " ('7', 'Sabrina (1995)'),\n",
       " ('8', 'Tom and Huck (1995)'),\n",
       " ('9', 'Sudden Death (1995)'),\n",
       " ('10', 'GoldenEye (1995)')]"
      ]
     },
     "execution_count": 19,
     "metadata": {},
     "output_type": "execute_result"
    }
   ],
   "source": [
    "items_dict= build_item_dict(product_name_sample, 'productId', 'title')\n",
    "list(islice(items_dict.items(), 10))"
   ]
  },
  {
   "cell_type": "markdown",
   "id": "df12ba8c",
   "metadata": {},
   "source": [
    "## 4.3 Train Matrix Factorization model"
   ]
  },
  {
   "cell_type": "markdown",
   "id": "46e023c3",
   "metadata": {},
   "source": [
    "Collaborative filtering is a method of making predictions about the interests of a user by collecting preferences or taste information from many users (collaborating). The underlying assumption of the collaborative filtering approach is that if a person A has the same opinion as a person B on an issue, A is more likely to have B's opinion on a different issue than that of a randomly chosen person. \n",
    "\n",
    "\n",
    "Now we build a hybrid collaborative model using training data. Here are some important parameters that we can pass to this method:\n",
    "- n_components:  the dimensionality of the feature latent embeddings.\n",
    "- loss: loss function, one of (‘logistic’, ‘bpr’, ‘warp’, ‘warp-kos’).\n",
    "- k: the k-th positive example will be selected from the n positive examples sampled for every user.\n",
    "- epoch:  number of epochs to run\n",
    "- n_jobs: Number of parallel computation threads to use.\n",
    "\n",
    "\n",
    "Four loss functions are available:\n",
    "\n",
    "- `logistic`: useful when both positive and negative interactions are present.\n",
    "- `brp`: Bayesian Personalised Ranking. Maximises the prediction difference between a positive example and a randomly chosen negative example. Useful when only positive interactions are present and optimising ROC AUC is desired.\n",
    "- `wrap`: Weighted Approximate-Rank Pairwise. Maximises the rank of positive examples by repeatedly sampling negative examples until rank violating one is found. Useful when only positive interactions are present and optimising the top of the recommendation list (precision@k) is desired.\n",
    "- `warp-kos`: k-th order statistic. A modification of WARP that uses the k-th positive example for any given user as a basis for pairwise updates."
   ]
  },
  {
   "cell_type": "code",
   "execution_count": 20,
   "id": "562dfb90",
   "metadata": {},
   "outputs": [
    {
     "data": {
      "text/plain": [
       "<lightfm.lightfm.LightFM at 0x7f759ebb7400>"
      ]
     },
     "execution_count": 20,
     "metadata": {},
     "output_type": "execute_result"
    }
   ],
   "source": [
    "trained_model = fit_model(interactions= train_pd, \n",
    "                          n_components= 5, \n",
    "                          loss= 'bpr', \n",
    "                          k= 3, \n",
    "                          epoch= 30)\n",
    "\n",
    "trained_model"
   ]
  },
  {
   "cell_type": "markdown",
   "id": "7cada61b",
   "metadata": {},
   "source": [
    "## 4.4 Model Evaluation"
   ]
  },
  {
   "cell_type": "markdown",
   "id": "6d133af7",
   "metadata": {},
   "source": [
    "The model_metrics API take trained_model build in previous step, and also train and test interaction matrices (created in the above) and produces a summary of metrics on train and test, and also plots the metric results as a function of epoch step. The main parameters of model_metric method includes:\n",
    "- model: fitted LightFM model\n",
    "- train_interactions: (scipy sparse COO matrix),  train interactions set\n",
    "- test_interactions: (scipy sparse COO matrix), test interaction set\n",
    "- k: number of recommendations, optional\n",
    "- no_epochs: Number of epochs to run, optional\n",
    "- nice_plot: if True, the metric results will be plotted.\n",
    "\n",
    "<b> Note that the results below is just for illustration purpuse as we trained the model with small sample data.</b>  "
   ]
  },
  {
   "cell_type": "code",
   "execution_count": 21,
   "id": "a9d3e3dd",
   "metadata": {},
   "outputs": [
    {
     "data": {
      "text/html": [
       "<div>\n",
       "<style scoped>\n",
       "    .dataframe tbody tr th:only-of-type {\n",
       "        vertical-align: middle;\n",
       "    }\n",
       "\n",
       "    .dataframe tbody tr th {\n",
       "        vertical-align: top;\n",
       "    }\n",
       "\n",
       "    .dataframe thead th {\n",
       "        text-align: right;\n",
       "    }\n",
       "</style>\n",
       "<table border=\"1\" class=\"dataframe\">\n",
       "  <thead>\n",
       "    <tr style=\"text-align: right;\">\n",
       "      <th></th>\n",
       "      <th>Evaluation Metric</th>\n",
       "      <th>Train</th>\n",
       "      <th>Test</th>\n",
       "    </tr>\n",
       "  </thead>\n",
       "  <tbody>\n",
       "    <tr>\n",
       "      <th>0</th>\n",
       "      <td>Average AUC</td>\n",
       "      <td>0.91</td>\n",
       "      <td>0.76</td>\n",
       "    </tr>\n",
       "    <tr>\n",
       "      <th>1</th>\n",
       "      <td>Average Precision@4</td>\n",
       "      <td>0.44</td>\n",
       "      <td>0.07</td>\n",
       "    </tr>\n",
       "    <tr>\n",
       "      <th>2</th>\n",
       "      <td>Average recall@4</td>\n",
       "      <td>0.04</td>\n",
       "      <td>0.02</td>\n",
       "    </tr>\n",
       "  </tbody>\n",
       "</table>\n",
       "</div>"
      ],
      "text/plain": [
       "     Evaluation Metric  Train  Test\n",
       "0          Average AUC   0.91  0.76\n",
       "1  Average Precision@4   0.44  0.07\n",
       "2     Average recall@4   0.04  0.02"
      ]
     },
     "execution_count": 21,
     "metadata": {},
     "output_type": "execute_result"
    },
    {
     "data": {
      "image/png": "[encoded data removed]",
      "text/plain": [
       "<Figure size 640x480 with 1 Axes>"
      ]
     },
     "metadata": {},
     "output_type": "display_data"
    },
    {
     "data": {
      "image/png": "[encoded data removed]",
      "text/plain": [
       "<Figure size 640x480 with 1 Axes>"
      ]
     },
     "metadata": {},
     "output_type": "display_data"
    },
    {
     "data": {
      "image/png": "[encoded data removed]",
      "text/plain": [
       "<Figure size 640x480 with 1 Axes>"
      ]
     },
     "metadata": {},
     "output_type": "display_data"
    }
   ],
   "source": [
    "df_metric_results = model_metrics(trained_model, train_interactions, \n",
    "                   test_interactions, \n",
    "                   k=4,\n",
    "                   no_epochs=50,\n",
    "                   nice_plot=True)\n",
    "df_metric_results"
   ]
  },
  {
   "cell_type": "markdown",
   "id": "6ec56977",
   "metadata": {},
   "source": [
    "## 4.5 User recommendations "
   ]
  },
  {
   "cell_type": "markdown",
   "id": "2565c143",
   "metadata": {},
   "source": [
    "Having trained the recommendation model, now we are ready to make some prediction. In the below, we show how to use `recommendations_for_user_items` method. This method provides top N recommendations for a user with user_id. The outcome will be a list of item_ids recommended for a user_id. \n",
    "\n",
    "The input parameters of this method are the following:\n",
    "- model: Trained matrix factorization model.\n",
    "- interactions: dataset used for training the model.\n",
    "- user_id: user ID for which we need to generate recommendation (this id is an actual id from outset).\n",
    "- user_dict: Dictionary containing interaction_index as key and integer mapped user_id as value. See the above. \n",
    "- item_dict: Dictionary containing item_id as key and item_name as value. See the above. \n",
    "- threshold: value above which the rating is favorable\n",
    "- num_recommendations: Number of output recommendation request\n",
    "- nice_print: if true the results will be printed out (this is for notebook usage)."
   ]
  },
  {
   "cell_type": "code",
   "execution_count": 22,
   "id": "9195bc92",
   "metadata": {},
   "outputs": [
    {
     "name": "stdout",
     "output_type": "stream",
     "text": [
      "Known Likes:\n",
      "1- Gods Must Be Crazy, The (1980)\n",
      "2- Tron (1982)\n",
      "3- Dracula (Bram Stoker's Dracula) (1992)\n",
      "4- Cinema Paradiso (Nuovo cinema Paradiso) (1989)\n",
      "5- Sleepers (1996)\n",
      "6- Dumbo (1941)\n",
      "\n",
      " Recommended new items:\n",
      "1- American Beauty (1999)\n",
      "2- Terminator, The (1984)\n",
      "3- Fight Club (1999)\n",
      "4- Shining, The (1980)\n"
     ]
    },
    {
     "data": {
      "text/plain": [
       "['2858', '1240', '2959', '1258']"
      ]
     },
     "execution_count": 22,
     "metadata": {},
     "output_type": "execute_result"
    }
   ],
   "source": [
    "# Given a user_id, recommend top num_recommendations items  \n",
    "recommendations_for_user_items = recommendations_items_for_user(trained_model, \n",
    "                                                          train_pd,  \n",
    "                                                          user_id = '1',\n",
    "                                                          user_dict=users_dict_train, \n",
    "                                                          item_dict=items_dict,\n",
    "                                                          threshold = 1,\n",
    "                                                          num_recommendations = 4) \n",
    "recommendations_for_user_items"
   ]
  },
  {
   "cell_type": "markdown",
   "id": "57905338",
   "metadata": {},
   "source": [
    "## 4.6 User-item recommendations"
   ]
  },
  {
   "cell_type": "markdown",
   "id": "33c00c2b",
   "metadata": {},
   "source": [
    "One of the common ask in the recommendation system is to recommend similar users who might be interested to a given item id. The `recommendations_users_for_item` method just does that. Recommend a list of top N (number_of_user) users for a given item. The parameters of this method are: \n",
    "- model:  Trained matrix factorization model.\n",
    "- interactions:  dataset used for training the model.\n",
    "- item_id: item ID for which we need to generate recommended users.\n",
    "- number_of_user: Number of users needed as an output."
   ]
  },
  {
   "cell_type": "code",
   "execution_count": 23,
   "id": "bc006cb5",
   "metadata": {},
   "outputs": [
    {
     "data": {
      "text/plain": [
       "['108', '145', '112', '144']"
      ]
     },
     "execution_count": 23,
     "metadata": {},
     "output_type": "execute_result"
    }
   ],
   "source": [
    "# Given an item_id, recommend top number_of_user for this item\n",
    "recommendations_similar_users_for_item = recommendations_users_for_item(trained_model, \n",
    "                                                                        train_pd,\n",
    "                                                                        item_id='31', \n",
    "                                                                        number_of_user= 4) \n",
    "recommendations_similar_users_for_item"
   ]
  },
  {
   "cell_type": "markdown",
   "id": "c361858f",
   "metadata": {},
   "source": [
    "## 4.7 Item-item recommendations"
   ]
  },
  {
   "cell_type": "markdown",
   "id": "0c0d89f4",
   "metadata": {},
   "source": [
    "In the below we show how to get recommendations similarto an item id. The model use similarity between \n",
    "the constructed embedding vectors of items. The first step is the build the embedding matrix of the training data.      "
   ]
  },
  {
   "cell_type": "code",
   "execution_count": 24,
   "id": "69ce91e8",
   "metadata": {},
   "outputs": [
    {
     "data": {
      "text/html": [
       "<div>\n",
       "<style scoped>\n",
       "    .dataframe tbody tr th:only-of-type {\n",
       "        vertical-align: middle;\n",
       "    }\n",
       "\n",
       "    .dataframe tbody tr th {\n",
       "        vertical-align: top;\n",
       "    }\n",
       "\n",
       "    .dataframe thead th {\n",
       "        text-align: right;\n",
       "    }\n",
       "</style>\n",
       "<table border=\"1\" class=\"dataframe\">\n",
       "  <thead>\n",
       "    <tr style=\"text-align: right;\">\n",
       "      <th>productId</th>\n",
       "      <th>1</th>\n",
       "      <th>10</th>\n",
       "      <th>100</th>\n",
       "      <th>100032</th>\n",
       "      <th>100034</th>\n",
       "      <th>100083</th>\n",
       "      <th>100159</th>\n",
       "      <th>100272</th>\n",
       "      <th>1003</th>\n",
       "      <th>100365</th>\n",
       "      <th>...</th>\n",
       "      <th>99149</th>\n",
       "      <th>99320</th>\n",
       "      <th>994</th>\n",
       "      <th>99468</th>\n",
       "      <th>996</th>\n",
       "      <th>99728</th>\n",
       "      <th>99764</th>\n",
       "      <th>99811</th>\n",
       "      <th>999</th>\n",
       "      <th>99917</th>\n",
       "    </tr>\n",
       "    <tr>\n",
       "      <th>productId</th>\n",
       "      <th></th>\n",
       "      <th></th>\n",
       "      <th></th>\n",
       "      <th></th>\n",
       "      <th></th>\n",
       "      <th></th>\n",
       "      <th></th>\n",
       "      <th></th>\n",
       "      <th></th>\n",
       "      <th></th>\n",
       "      <th></th>\n",
       "      <th></th>\n",
       "      <th></th>\n",
       "      <th></th>\n",
       "      <th></th>\n",
       "      <th></th>\n",
       "      <th></th>\n",
       "      <th></th>\n",
       "      <th></th>\n",
       "      <th></th>\n",
       "      <th></th>\n",
       "    </tr>\n",
       "  </thead>\n",
       "  <tbody>\n",
       "    <tr>\n",
       "      <th>1</th>\n",
       "      <td>1.00</td>\n",
       "      <td>0.44</td>\n",
       "      <td>0.13</td>\n",
       "      <td>-0.17</td>\n",
       "      <td>0.71</td>\n",
       "      <td>0.90</td>\n",
       "      <td>-0.22</td>\n",
       "      <td>0.28</td>\n",
       "      <td>0.39</td>\n",
       "      <td>0.88</td>\n",
       "      <td>...</td>\n",
       "      <td>0.48</td>\n",
       "      <td>0.19</td>\n",
       "      <td>-0.10</td>\n",
       "      <td>-0.45</td>\n",
       "      <td>-0.66</td>\n",
       "      <td>-0.18</td>\n",
       "      <td>0.37</td>\n",
       "      <td>-0.28</td>\n",
       "      <td>0.50</td>\n",
       "      <td>0.08</td>\n",
       "    </tr>\n",
       "    <tr>\n",
       "      <th>10</th>\n",
       "      <td>0.44</td>\n",
       "      <td>1.00</td>\n",
       "      <td>0.50</td>\n",
       "      <td>0.15</td>\n",
       "      <td>-0.28</td>\n",
       "      <td>0.34</td>\n",
       "      <td>-0.24</td>\n",
       "      <td>-0.60</td>\n",
       "      <td>0.75</td>\n",
       "      <td>0.37</td>\n",
       "      <td>...</td>\n",
       "      <td>-0.52</td>\n",
       "      <td>-0.00</td>\n",
       "      <td>-0.54</td>\n",
       "      <td>-0.01</td>\n",
       "      <td>0.25</td>\n",
       "      <td>0.32</td>\n",
       "      <td>-0.60</td>\n",
       "      <td>-0.57</td>\n",
       "      <td>0.52</td>\n",
       "      <td>-0.23</td>\n",
       "    </tr>\n",
       "    <tr>\n",
       "      <th>100</th>\n",
       "      <td>0.13</td>\n",
       "      <td>0.50</td>\n",
       "      <td>1.00</td>\n",
       "      <td>-0.44</td>\n",
       "      <td>-0.15</td>\n",
       "      <td>-0.05</td>\n",
       "      <td>-0.52</td>\n",
       "      <td>-0.70</td>\n",
       "      <td>0.87</td>\n",
       "      <td>-0.03</td>\n",
       "      <td>...</td>\n",
       "      <td>-0.54</td>\n",
       "      <td>-0.86</td>\n",
       "      <td>0.33</td>\n",
       "      <td>-0.18</td>\n",
       "      <td>0.40</td>\n",
       "      <td>0.20</td>\n",
       "      <td>-0.62</td>\n",
       "      <td>0.18</td>\n",
       "      <td>0.25</td>\n",
       "      <td>-0.86</td>\n",
       "    </tr>\n",
       "    <tr>\n",
       "      <th>100032</th>\n",
       "      <td>-0.17</td>\n",
       "      <td>0.15</td>\n",
       "      <td>-0.44</td>\n",
       "      <td>1.00</td>\n",
       "      <td>-0.17</td>\n",
       "      <td>0.21</td>\n",
       "      <td>0.89</td>\n",
       "      <td>-0.22</td>\n",
       "      <td>-0.48</td>\n",
       "      <td>0.28</td>\n",
       "      <td>...</td>\n",
       "      <td>-0.06</td>\n",
       "      <td>0.60</td>\n",
       "      <td>-0.28</td>\n",
       "      <td>0.87</td>\n",
       "      <td>-0.13</td>\n",
       "      <td>-0.45</td>\n",
       "      <td>-0.24</td>\n",
       "      <td>-0.74</td>\n",
       "      <td>0.47</td>\n",
       "      <td>0.13</td>\n",
       "    </tr>\n",
       "    <tr>\n",
       "      <th>100034</th>\n",
       "      <td>0.71</td>\n",
       "      <td>-0.28</td>\n",
       "      <td>-0.15</td>\n",
       "      <td>-0.17</td>\n",
       "      <td>1.00</td>\n",
       "      <td>0.75</td>\n",
       "      <td>0.10</td>\n",
       "      <td>0.63</td>\n",
       "      <td>-0.15</td>\n",
       "      <td>0.71</td>\n",
       "      <td>...</td>\n",
       "      <td>0.89</td>\n",
       "      <td>0.12</td>\n",
       "      <td>0.45</td>\n",
       "      <td>-0.28</td>\n",
       "      <td>-0.91</td>\n",
       "      <td>-0.63</td>\n",
       "      <td>0.75</td>\n",
       "      <td>0.05</td>\n",
       "      <td>0.27</td>\n",
       "      <td>0.06</td>\n",
       "    </tr>\n",
       "  </tbody>\n",
       "</table>\n",
       "<p>5 rows × 5217 columns</p>\n",
       "</div>"
      ],
      "text/plain": [
       "productId     1    10   100  100032  100034  100083  100159  100272  1003  \\\n",
       "productId                                                                   \n",
       "1          1.00  0.44  0.13   -0.17    0.71    0.90   -0.22    0.28  0.39   \n",
       "10         0.44  1.00  0.50    0.15   -0.28    0.34   -0.24   -0.60  0.75   \n",
       "100        0.13  0.50  1.00   -0.44   -0.15   -0.05   -0.52   -0.70  0.87   \n",
       "100032    -0.17  0.15 -0.44    1.00   -0.17    0.21    0.89   -0.22 -0.48   \n",
       "100034     0.71 -0.28 -0.15   -0.17    1.00    0.75    0.10    0.63 -0.15   \n",
       "\n",
       "productId  100365  ...  99149  99320   994  99468   996  99728  99764  99811  \\\n",
       "productId          ...                                                         \n",
       "1            0.88  ...   0.48   0.19 -0.10  -0.45 -0.66  -0.18   0.37  -0.28   \n",
       "10           0.37  ...  -0.52  -0.00 -0.54  -0.01  0.25   0.32  -0.60  -0.57   \n",
       "100         -0.03  ...  -0.54  -0.86  0.33  -0.18  0.40   0.20  -0.62   0.18   \n",
       "100032       0.28  ...  -0.06   0.60 -0.28   0.87 -0.13  -0.45  -0.24  -0.74   \n",
       "100034       0.71  ...   0.89   0.12  0.45  -0.28 -0.91  -0.63   0.75   0.05   \n",
       "\n",
       "productId  999  99917  \n",
       "productId              \n",
       "1         0.50   0.08  \n",
       "10        0.52  -0.23  \n",
       "100       0.25  -0.86  \n",
       "100032    0.47   0.13  \n",
       "100034    0.27   0.06  \n",
       "\n",
       "[5 rows x 5217 columns]"
      ]
     },
     "execution_count": 24,
     "metadata": {},
     "output_type": "execute_result"
    }
   ],
   "source": [
    "## Buid the embedding matrix from the trained model. \n",
    "Built_embedding_matrix = embedding_matrix(trained_model, train_pd)\n",
    "Built_embedding_matrix.head()"
   ]
  },
  {
   "cell_type": "markdown",
   "id": "d456cee4",
   "metadata": {},
   "source": [
    "Having constructed the embedding matrix for all items, we can now get similair items to a given item id. \n",
    "Here are the parameters of the `recommendations_items_for_item` method:\n",
    "- built_embedding_matrix: Pandas dataframe containing cosine distance matrix between items. Call embedding_matrix method in the above to build it.\n",
    "- item_id: item id that we need to generate recommended items\n",
    "- item_dict: Dictionary containing item_id as key and item_name as value\n",
    "- n_items: Number of items needed for recommendation\n",
    "- nice_print: if True, it prints the results. This is only useful for notebook."
   ]
  },
  {
   "cell_type": "code",
   "execution_count": 25,
   "id": "1feb7afd",
   "metadata": {},
   "outputs": [
    {
     "name": "stdout",
     "output_type": "stream",
     "text": [
      "Similar items to \"Grumpier Old Men (1995)\":\n",
      "1- Barb Wire (1996)\n",
      "2- Nymphomaniac: Volume II (2013)\n",
      "3- Sudden Death (1995)\n",
      "4- Executive Decision (1996)\n"
     ]
    },
    {
     "data": {
      "text/plain": [
       "['737', '108981', '9', '494']"
      ]
     },
     "execution_count": 25,
     "metadata": {},
     "output_type": "execute_result"
    }
   ],
   "source": [
    "# Recommend top n_items products similar to a given product id\n",
    "recommendations_similar_items_for_item = recommendations_items_for_item(Built_embedding_matrix,\n",
    "                                                                        item_id = '3',\n",
    "                                                                        item_dict = items_dict,\n",
    "                                                                        n_items = 4,\n",
    "                                                                        nice_print= True)\n",
    "                               \n",
    "                               \n",
    "recommendations_similar_items_for_item                                                     "
   ]
  },
  {
   "cell_type": "markdown",
   "id": "0528b7fc",
   "metadata": {},
   "source": [
    "# 5. Product recommendation with implicit Feedback"
   ]
  },
  {
   "cell_type": "markdown",
   "id": "9193eca7",
   "metadata": {},
   "source": [
    "In implicit feedback use-cases, user preference are mainly captured by user clicked, watched movies, played songs, purchases or assigned tags, or taken actions.  In this case we have less signals and user does not provide any rating for items. "
   ]
  },
  {
   "cell_type": "markdown",
   "id": "9f84839a",
   "metadata": {},
   "source": [
    "## 5.1 Exploratory Data Analysis"
   ]
  },
  {
   "cell_type": "markdown",
   "id": "7e0cb010",
   "metadata": {},
   "source": [
    "In the case of implicit Feedback, there is no `rate` column. In this case, the use-item interaction contains historical clickstream data. A sample of such data shown below.  "
   ]
  },
  {
   "cell_type": "code",
   "execution_count": 26,
   "id": "a75b7ff6",
   "metadata": {},
   "outputs": [
    {
     "data": {
      "text/html": [
       "<div>\n",
       "<style scoped>\n",
       "    .dataframe tbody tr th:only-of-type {\n",
       "        vertical-align: middle;\n",
       "    }\n",
       "\n",
       "    .dataframe tbody tr th {\n",
       "        vertical-align: top;\n",
       "    }\n",
       "\n",
       "    .dataframe thead th {\n",
       "        text-align: right;\n",
       "    }\n",
       "</style>\n",
       "<table border=\"1\" class=\"dataframe\">\n",
       "  <thead>\n",
       "    <tr style=\"text-align: right;\">\n",
       "      <th></th>\n",
       "      <th>userId</th>\n",
       "      <th>productId</th>\n",
       "      <th>timestamp</th>\n",
       "    </tr>\n",
       "  </thead>\n",
       "  <tbody>\n",
       "    <tr>\n",
       "      <th>0</th>\n",
       "      <td>1</td>\n",
       "      <td>31</td>\n",
       "      <td>1260759144</td>\n",
       "    </tr>\n",
       "    <tr>\n",
       "      <th>1</th>\n",
       "      <td>1</td>\n",
       "      <td>1029</td>\n",
       "      <td>1260759179</td>\n",
       "    </tr>\n",
       "    <tr>\n",
       "      <th>2</th>\n",
       "      <td>1</td>\n",
       "      <td>1061</td>\n",
       "      <td>1260759182</td>\n",
       "    </tr>\n",
       "    <tr>\n",
       "      <th>3</th>\n",
       "      <td>1</td>\n",
       "      <td>1129</td>\n",
       "      <td>1260759185</td>\n",
       "    </tr>\n",
       "    <tr>\n",
       "      <th>4</th>\n",
       "      <td>1</td>\n",
       "      <td>1172</td>\n",
       "      <td>1260759205</td>\n",
       "    </tr>\n",
       "  </tbody>\n",
       "</table>\n",
       "</div>"
      ],
      "text/plain": [
       "  userId productId   timestamp\n",
       "0      1        31  1260759144\n",
       "1      1      1029  1260759179\n",
       "2      1      1061  1260759182\n",
       "3      1      1129  1260759185\n",
       "4      1      1172  1260759205"
      ]
     },
     "execution_count": 26,
     "metadata": {},
     "output_type": "execute_result"
    }
   ],
   "source": [
    "data_sample_implicit_init = data_sample.copy()\n",
    "data_sample_implicit_init.drop('rating', axis=1, inplace=True)\n",
    "data_sample_implicit_init.head()"
   ]
  },
  {
   "cell_type": "code",
   "execution_count": 27,
   "id": "14f2a970",
   "metadata": {},
   "outputs": [
    {
     "data": {
      "text/plain": [
       "(27707, 3)"
      ]
     },
     "execution_count": 27,
     "metadata": {},
     "output_type": "execute_result"
    }
   ],
   "source": [
    "# Dropping duplicated events\n",
    "data_sample_implicit_init.drop_duplicates(ignore_index=True, inplace=True)\n",
    "data_sample_implicit_init.shape"
   ]
  },
  {
   "cell_type": "markdown",
   "id": "86844fa4",
   "metadata": {},
   "source": [
    "In some use-cases, only if users click more than certain numbers, then user intention should be taken into account. To account for this effect, we create a new feature called `Occur` which counts number of clicks or transactions over all history of data. This feature is in a sense similar to `rating` feature in the case of explicit feedback use-case (see the above).  \n",
    "\n",
    "Note that the feature `Occur` is auxiliary and is not essential for the modeling. It can only be used if user want to impose some constrains on number of clicks that should be included in the model.  "
   ]
  },
  {
   "cell_type": "code",
   "execution_count": 28,
   "id": "68739eb1",
   "metadata": {},
   "outputs": [
    {
     "name": "stderr",
     "output_type": "stream",
     "text": [
      "INFO:src.data_processing_utilities:timestamp feature exist in data, it will be dropped.\n"
     ]
    },
    {
     "data": {
      "text/html": [
       "<div>\n",
       "<style scoped>\n",
       "    .dataframe tbody tr th:only-of-type {\n",
       "        vertical-align: middle;\n",
       "    }\n",
       "\n",
       "    .dataframe tbody tr th {\n",
       "        vertical-align: top;\n",
       "    }\n",
       "\n",
       "    .dataframe thead th {\n",
       "        text-align: right;\n",
       "    }\n",
       "</style>\n",
       "<table border=\"1\" class=\"dataframe\">\n",
       "  <thead>\n",
       "    <tr style=\"text-align: right;\">\n",
       "      <th></th>\n",
       "      <th>userId</th>\n",
       "      <th>productId</th>\n",
       "      <th>Occur</th>\n",
       "    </tr>\n",
       "  </thead>\n",
       "  <tbody>\n",
       "    <tr>\n",
       "      <th>0</th>\n",
       "      <td>1</td>\n",
       "      <td>31</td>\n",
       "      <td>15</td>\n",
       "    </tr>\n",
       "    <tr>\n",
       "      <th>1</th>\n",
       "      <td>1</td>\n",
       "      <td>1029</td>\n",
       "      <td>11</td>\n",
       "    </tr>\n",
       "    <tr>\n",
       "      <th>2</th>\n",
       "      <td>1</td>\n",
       "      <td>1061</td>\n",
       "      <td>13</td>\n",
       "    </tr>\n",
       "    <tr>\n",
       "      <th>3</th>\n",
       "      <td>1</td>\n",
       "      <td>1129</td>\n",
       "      <td>19</td>\n",
       "    </tr>\n",
       "    <tr>\n",
       "      <th>4</th>\n",
       "      <td>1</td>\n",
       "      <td>1172</td>\n",
       "      <td>11</td>\n",
       "    </tr>\n",
       "  </tbody>\n",
       "</table>\n",
       "</div>"
      ],
      "text/plain": [
       "  userId productId  Occur\n",
       "0      1        31     15\n",
       "1      1      1029     11\n",
       "2      1      1061     13\n",
       "3      1      1129     19\n",
       "4      1      1172     11"
      ]
     },
     "execution_count": 28,
     "metadata": {},
     "output_type": "execute_result"
    }
   ],
   "source": [
    "# Create a column with name \"Occur\" which count number of click of a given product. \n",
    "data_sample_implicit = data_preprocessing_implicit_feedback(data_sample_implicit_init, \n",
    "                                     user_col= 'userId', \n",
    "                                     item_col= 'productId')\n",
    "data_sample_implicit.head()"
   ]
  },
  {
   "cell_type": "code",
   "execution_count": 29,
   "id": "f46a2812",
   "metadata": {},
   "outputs": [
    {
     "data": {
      "text/plain": [
       "20"
      ]
     },
     "execution_count": 29,
     "metadata": {},
     "output_type": "execute_result"
    }
   ],
   "source": [
    "# Calculate average number of click \n",
    "int(data_sample_implicit['Occur'].mean())"
   ]
  },
  {
   "cell_type": "markdown",
   "id": "6d3c1669",
   "metadata": {},
   "source": [
    "Below we should number of count for any value of `Occur`. It is seen that most cases we have small number of clicks or transactions. "
   ]
  },
  {
   "cell_type": "code",
   "execution_count": 30,
   "id": "7ee83a11",
   "metadata": {
    "scrolled": true
   },
   "outputs": [
    {
     "data": {
      "image/png": "[encoded data removed]",
      "text/plain": [
       "<Figure size 3000x800 with 1 Axes>"
      ]
     },
     "metadata": {},
     "output_type": "display_data"
    }
   ],
   "source": [
    "fig, ax = plt.subplots(figsize=(30, 8))\n",
    "# Only showing Occur < 50. \n",
    "sns.countplot(x = 'Occur', data = data_sample_implicit[data_sample_implicit.Occur<50], palette = 'Greens_d');"
   ]
  },
  {
   "cell_type": "markdown",
   "id": "c0062038",
   "metadata": {},
   "source": [
    "The following steps for data preprocessing, traning model, model evaluation, and inference are all similar to the case of explicit feedback discussed in the above, with exactly the same API.  "
   ]
  },
  {
   "cell_type": "markdown",
   "id": "7e83caa7",
   "metadata": {},
   "source": [
    "## 5.2 Data Preprocessing"
   ]
  },
  {
   "cell_type": "markdown",
   "id": "50a373b8",
   "metadata": {},
   "source": [
    "### 5.2.1 Build Interaction Matrix"
   ]
  },
  {
   "cell_type": "markdown",
   "id": "72bb2ea7",
   "metadata": {},
   "source": [
    "Below we build the interaction matrix for implicit feedback data. Similar to the case of explicit feedback use-case, the parameters of `threshold` defines the value of `Occur` that is favorable. It is used if `norm = True`.\n",
    "Note that in order to build interaction matrix we do not need to build `Occur` feature.  if the `threshold` is not known, then we should take `threshold=1`.  "
   ]
  },
  {
   "cell_type": "code",
   "execution_count": 31,
   "id": "4dc9c2d8",
   "metadata": {},
   "outputs": [
    {
     "name": "stdout",
     "output_type": "stream",
     "text": [
      "Number of unique user in data: 201\n",
      "Number of unique product Id in data: 5217\n"
     ]
    },
    {
     "data": {
      "text/html": [
       "<div>\n",
       "<style scoped>\n",
       "    .dataframe tbody tr th:only-of-type {\n",
       "        vertical-align: middle;\n",
       "    }\n",
       "\n",
       "    .dataframe tbody tr th {\n",
       "        vertical-align: top;\n",
       "    }\n",
       "\n",
       "    .dataframe thead th {\n",
       "        text-align: right;\n",
       "    }\n",
       "</style>\n",
       "<table border=\"1\" class=\"dataframe\">\n",
       "  <thead>\n",
       "    <tr style=\"text-align: right;\">\n",
       "      <th>productId</th>\n",
       "      <th>1</th>\n",
       "      <th>10</th>\n",
       "      <th>100</th>\n",
       "      <th>100032</th>\n",
       "      <th>100034</th>\n",
       "      <th>100083</th>\n",
       "      <th>100159</th>\n",
       "      <th>100272</th>\n",
       "      <th>1003</th>\n",
       "      <th>100365</th>\n",
       "      <th>...</th>\n",
       "      <th>99149</th>\n",
       "      <th>99320</th>\n",
       "      <th>994</th>\n",
       "      <th>99468</th>\n",
       "      <th>996</th>\n",
       "      <th>99728</th>\n",
       "      <th>99764</th>\n",
       "      <th>99811</th>\n",
       "      <th>999</th>\n",
       "      <th>99917</th>\n",
       "    </tr>\n",
       "    <tr>\n",
       "      <th>userId</th>\n",
       "      <th></th>\n",
       "      <th></th>\n",
       "      <th></th>\n",
       "      <th></th>\n",
       "      <th></th>\n",
       "      <th></th>\n",
       "      <th></th>\n",
       "      <th></th>\n",
       "      <th></th>\n",
       "      <th></th>\n",
       "      <th></th>\n",
       "      <th></th>\n",
       "      <th></th>\n",
       "      <th></th>\n",
       "      <th></th>\n",
       "      <th></th>\n",
       "      <th></th>\n",
       "      <th></th>\n",
       "      <th></th>\n",
       "      <th></th>\n",
       "      <th></th>\n",
       "    </tr>\n",
       "  </thead>\n",
       "  <tbody>\n",
       "    <tr>\n",
       "      <th>1</th>\n",
       "      <td>0.00</td>\n",
       "      <td>0.00</td>\n",
       "      <td>0.00</td>\n",
       "      <td>0.00</td>\n",
       "      <td>0.00</td>\n",
       "      <td>0.00</td>\n",
       "      <td>0.00</td>\n",
       "      <td>0.00</td>\n",
       "      <td>0.00</td>\n",
       "      <td>0.00</td>\n",
       "      <td>...</td>\n",
       "      <td>0.00</td>\n",
       "      <td>0.00</td>\n",
       "      <td>0.00</td>\n",
       "      <td>0.00</td>\n",
       "      <td>0.00</td>\n",
       "      <td>0.00</td>\n",
       "      <td>0.00</td>\n",
       "      <td>0.00</td>\n",
       "      <td>0.00</td>\n",
       "      <td>0.00</td>\n",
       "    </tr>\n",
       "    <tr>\n",
       "      <th>10</th>\n",
       "      <td>0.00</td>\n",
       "      <td>0.00</td>\n",
       "      <td>0.00</td>\n",
       "      <td>0.00</td>\n",
       "      <td>0.00</td>\n",
       "      <td>0.00</td>\n",
       "      <td>0.00</td>\n",
       "      <td>0.00</td>\n",
       "      <td>0.00</td>\n",
       "      <td>0.00</td>\n",
       "      <td>...</td>\n",
       "      <td>0.00</td>\n",
       "      <td>0.00</td>\n",
       "      <td>0.00</td>\n",
       "      <td>0.00</td>\n",
       "      <td>0.00</td>\n",
       "      <td>0.00</td>\n",
       "      <td>0.00</td>\n",
       "      <td>0.00</td>\n",
       "      <td>0.00</td>\n",
       "      <td>0.00</td>\n",
       "    </tr>\n",
       "    <tr>\n",
       "      <th>100</th>\n",
       "      <td>1.00</td>\n",
       "      <td>0.00</td>\n",
       "      <td>0.00</td>\n",
       "      <td>0.00</td>\n",
       "      <td>0.00</td>\n",
       "      <td>0.00</td>\n",
       "      <td>0.00</td>\n",
       "      <td>0.00</td>\n",
       "      <td>0.00</td>\n",
       "      <td>0.00</td>\n",
       "      <td>...</td>\n",
       "      <td>0.00</td>\n",
       "      <td>0.00</td>\n",
       "      <td>0.00</td>\n",
       "      <td>0.00</td>\n",
       "      <td>0.00</td>\n",
       "      <td>0.00</td>\n",
       "      <td>0.00</td>\n",
       "      <td>0.00</td>\n",
       "      <td>0.00</td>\n",
       "      <td>0.00</td>\n",
       "    </tr>\n",
       "    <tr>\n",
       "      <th>101</th>\n",
       "      <td>0.00</td>\n",
       "      <td>0.00</td>\n",
       "      <td>0.00</td>\n",
       "      <td>0.00</td>\n",
       "      <td>0.00</td>\n",
       "      <td>0.00</td>\n",
       "      <td>0.00</td>\n",
       "      <td>0.00</td>\n",
       "      <td>0.00</td>\n",
       "      <td>0.00</td>\n",
       "      <td>...</td>\n",
       "      <td>0.00</td>\n",
       "      <td>0.00</td>\n",
       "      <td>0.00</td>\n",
       "      <td>0.00</td>\n",
       "      <td>0.00</td>\n",
       "      <td>0.00</td>\n",
       "      <td>0.00</td>\n",
       "      <td>0.00</td>\n",
       "      <td>0.00</td>\n",
       "      <td>0.00</td>\n",
       "    </tr>\n",
       "    <tr>\n",
       "      <th>102</th>\n",
       "      <td>0.00</td>\n",
       "      <td>0.00</td>\n",
       "      <td>0.00</td>\n",
       "      <td>0.00</td>\n",
       "      <td>0.00</td>\n",
       "      <td>0.00</td>\n",
       "      <td>0.00</td>\n",
       "      <td>0.00</td>\n",
       "      <td>0.00</td>\n",
       "      <td>0.00</td>\n",
       "      <td>...</td>\n",
       "      <td>0.00</td>\n",
       "      <td>0.00</td>\n",
       "      <td>0.00</td>\n",
       "      <td>0.00</td>\n",
       "      <td>0.00</td>\n",
       "      <td>0.00</td>\n",
       "      <td>0.00</td>\n",
       "      <td>0.00</td>\n",
       "      <td>0.00</td>\n",
       "      <td>0.00</td>\n",
       "    </tr>\n",
       "  </tbody>\n",
       "</table>\n",
       "<p>5 rows × 5217 columns</p>\n",
       "</div>"
      ],
      "text/plain": [
       "productId    1   10  100  100032  100034  100083  100159  100272  1003  \\\n",
       "userId                                                                   \n",
       "1         0.00 0.00 0.00    0.00    0.00    0.00    0.00    0.00  0.00   \n",
       "10        0.00 0.00 0.00    0.00    0.00    0.00    0.00    0.00  0.00   \n",
       "100       1.00 0.00 0.00    0.00    0.00    0.00    0.00    0.00  0.00   \n",
       "101       0.00 0.00 0.00    0.00    0.00    0.00    0.00    0.00  0.00   \n",
       "102       0.00 0.00 0.00    0.00    0.00    0.00    0.00    0.00  0.00   \n",
       "\n",
       "productId  100365  ...  99149  99320  994  99468  996  99728  99764  99811  \\\n",
       "userId             ...                                                       \n",
       "1            0.00  ...   0.00   0.00 0.00   0.00 0.00   0.00   0.00   0.00   \n",
       "10           0.00  ...   0.00   0.00 0.00   0.00 0.00   0.00   0.00   0.00   \n",
       "100          0.00  ...   0.00   0.00 0.00   0.00 0.00   0.00   0.00   0.00   \n",
       "101          0.00  ...   0.00   0.00 0.00   0.00 0.00   0.00   0.00   0.00   \n",
       "102          0.00  ...   0.00   0.00 0.00   0.00 0.00   0.00   0.00   0.00   \n",
       "\n",
       "productId  999  99917  \n",
       "userId                 \n",
       "1         0.00   0.00  \n",
       "10        0.00   0.00  \n",
       "100       0.00   0.00  \n",
       "101       0.00   0.00  \n",
       "102       0.00   0.00  \n",
       "\n",
       "[5 rows x 5217 columns]"
      ]
     },
     "execution_count": 31,
     "metadata": {},
     "output_type": "execute_result"
    }
   ],
   "source": [
    "threshold_mean =int(data_sample_implicit['Occur'].mean())\n",
    "interactions_implicit = build_interaction_matrix(data_sample_implicit, \n",
    "                                        \"userId\", \n",
    "                                        \"productId\", \n",
    "                                        \"Occur\", \n",
    "                                         norm=True, \n",
    "                                         threshold= threshold_mean)\n",
    "interactions_implicit.head()"
   ]
  },
  {
   "cell_type": "markdown",
   "id": "939790c9",
   "metadata": {},
   "source": [
    "### 5.2.2 Split data to train and test"
   ]
  },
  {
   "cell_type": "code",
   "execution_count": 32,
   "id": "beeddaf0",
   "metadata": {},
   "outputs": [
    {
     "name": "stdout",
     "output_type": "stream",
     "text": [
      "Shape of train interaction data: (201, 5217)\n",
      "Shape of test interaction data: (201, 5217)\n"
     ]
    },
    {
     "data": {
      "text/html": [
       "<div>\n",
       "<style scoped>\n",
       "    .dataframe tbody tr th:only-of-type {\n",
       "        vertical-align: middle;\n",
       "    }\n",
       "\n",
       "    .dataframe tbody tr th {\n",
       "        vertical-align: top;\n",
       "    }\n",
       "\n",
       "    .dataframe thead th {\n",
       "        text-align: right;\n",
       "    }\n",
       "</style>\n",
       "<table border=\"1\" class=\"dataframe\">\n",
       "  <thead>\n",
       "    <tr style=\"text-align: right;\">\n",
       "      <th>productId</th>\n",
       "      <th>1</th>\n",
       "      <th>10</th>\n",
       "      <th>100</th>\n",
       "      <th>100032</th>\n",
       "      <th>100034</th>\n",
       "      <th>100083</th>\n",
       "      <th>100159</th>\n",
       "      <th>100272</th>\n",
       "      <th>1003</th>\n",
       "      <th>100365</th>\n",
       "      <th>...</th>\n",
       "      <th>99149</th>\n",
       "      <th>99320</th>\n",
       "      <th>994</th>\n",
       "      <th>99468</th>\n",
       "      <th>996</th>\n",
       "      <th>99728</th>\n",
       "      <th>99764</th>\n",
       "      <th>99811</th>\n",
       "      <th>999</th>\n",
       "      <th>99917</th>\n",
       "    </tr>\n",
       "    <tr>\n",
       "      <th>userId</th>\n",
       "      <th></th>\n",
       "      <th></th>\n",
       "      <th></th>\n",
       "      <th></th>\n",
       "      <th></th>\n",
       "      <th></th>\n",
       "      <th></th>\n",
       "      <th></th>\n",
       "      <th></th>\n",
       "      <th></th>\n",
       "      <th></th>\n",
       "      <th></th>\n",
       "      <th></th>\n",
       "      <th></th>\n",
       "      <th></th>\n",
       "      <th></th>\n",
       "      <th></th>\n",
       "      <th></th>\n",
       "      <th></th>\n",
       "      <th></th>\n",
       "      <th></th>\n",
       "    </tr>\n",
       "  </thead>\n",
       "  <tbody>\n",
       "    <tr>\n",
       "      <th>1</th>\n",
       "      <td>0.00</td>\n",
       "      <td>0.00</td>\n",
       "      <td>0.00</td>\n",
       "      <td>0.00</td>\n",
       "      <td>0.00</td>\n",
       "      <td>0.00</td>\n",
       "      <td>0.00</td>\n",
       "      <td>0.00</td>\n",
       "      <td>0.00</td>\n",
       "      <td>0.00</td>\n",
       "      <td>...</td>\n",
       "      <td>0.00</td>\n",
       "      <td>0.00</td>\n",
       "      <td>0.00</td>\n",
       "      <td>0.00</td>\n",
       "      <td>0.00</td>\n",
       "      <td>0.00</td>\n",
       "      <td>0.00</td>\n",
       "      <td>0.00</td>\n",
       "      <td>0.00</td>\n",
       "      <td>0.00</td>\n",
       "    </tr>\n",
       "    <tr>\n",
       "      <th>10</th>\n",
       "      <td>0.00</td>\n",
       "      <td>0.00</td>\n",
       "      <td>0.00</td>\n",
       "      <td>0.00</td>\n",
       "      <td>0.00</td>\n",
       "      <td>0.00</td>\n",
       "      <td>0.00</td>\n",
       "      <td>0.00</td>\n",
       "      <td>0.00</td>\n",
       "      <td>0.00</td>\n",
       "      <td>...</td>\n",
       "      <td>0.00</td>\n",
       "      <td>0.00</td>\n",
       "      <td>0.00</td>\n",
       "      <td>0.00</td>\n",
       "      <td>0.00</td>\n",
       "      <td>0.00</td>\n",
       "      <td>0.00</td>\n",
       "      <td>0.00</td>\n",
       "      <td>0.00</td>\n",
       "      <td>0.00</td>\n",
       "    </tr>\n",
       "    <tr>\n",
       "      <th>100</th>\n",
       "      <td>1.00</td>\n",
       "      <td>0.00</td>\n",
       "      <td>0.00</td>\n",
       "      <td>0.00</td>\n",
       "      <td>0.00</td>\n",
       "      <td>0.00</td>\n",
       "      <td>0.00</td>\n",
       "      <td>0.00</td>\n",
       "      <td>0.00</td>\n",
       "      <td>0.00</td>\n",
       "      <td>...</td>\n",
       "      <td>0.00</td>\n",
       "      <td>0.00</td>\n",
       "      <td>0.00</td>\n",
       "      <td>0.00</td>\n",
       "      <td>0.00</td>\n",
       "      <td>0.00</td>\n",
       "      <td>0.00</td>\n",
       "      <td>0.00</td>\n",
       "      <td>0.00</td>\n",
       "      <td>0.00</td>\n",
       "    </tr>\n",
       "    <tr>\n",
       "      <th>101</th>\n",
       "      <td>0.00</td>\n",
       "      <td>0.00</td>\n",
       "      <td>0.00</td>\n",
       "      <td>0.00</td>\n",
       "      <td>0.00</td>\n",
       "      <td>0.00</td>\n",
       "      <td>0.00</td>\n",
       "      <td>0.00</td>\n",
       "      <td>0.00</td>\n",
       "      <td>0.00</td>\n",
       "      <td>...</td>\n",
       "      <td>0.00</td>\n",
       "      <td>0.00</td>\n",
       "      <td>0.00</td>\n",
       "      <td>0.00</td>\n",
       "      <td>0.00</td>\n",
       "      <td>0.00</td>\n",
       "      <td>0.00</td>\n",
       "      <td>0.00</td>\n",
       "      <td>0.00</td>\n",
       "      <td>0.00</td>\n",
       "    </tr>\n",
       "    <tr>\n",
       "      <th>102</th>\n",
       "      <td>0.00</td>\n",
       "      <td>0.00</td>\n",
       "      <td>0.00</td>\n",
       "      <td>0.00</td>\n",
       "      <td>0.00</td>\n",
       "      <td>0.00</td>\n",
       "      <td>0.00</td>\n",
       "      <td>0.00</td>\n",
       "      <td>0.00</td>\n",
       "      <td>0.00</td>\n",
       "      <td>...</td>\n",
       "      <td>0.00</td>\n",
       "      <td>0.00</td>\n",
       "      <td>0.00</td>\n",
       "      <td>0.00</td>\n",
       "      <td>0.00</td>\n",
       "      <td>0.00</td>\n",
       "      <td>0.00</td>\n",
       "      <td>0.00</td>\n",
       "      <td>0.00</td>\n",
       "      <td>0.00</td>\n",
       "    </tr>\n",
       "  </tbody>\n",
       "</table>\n",
       "<p>5 rows × 5217 columns</p>\n",
       "</div>"
      ],
      "text/plain": [
       "productId    1   10  100  100032  100034  100083  100159  100272  1003  \\\n",
       "userId                                                                   \n",
       "1         0.00 0.00 0.00    0.00    0.00    0.00    0.00    0.00  0.00   \n",
       "10        0.00 0.00 0.00    0.00    0.00    0.00    0.00    0.00  0.00   \n",
       "100       1.00 0.00 0.00    0.00    0.00    0.00    0.00    0.00  0.00   \n",
       "101       0.00 0.00 0.00    0.00    0.00    0.00    0.00    0.00  0.00   \n",
       "102       0.00 0.00 0.00    0.00    0.00    0.00    0.00    0.00  0.00   \n",
       "\n",
       "productId  100365  ...  99149  99320  994  99468  996  99728  99764  99811  \\\n",
       "userId             ...                                                       \n",
       "1            0.00  ...   0.00   0.00 0.00   0.00 0.00   0.00   0.00   0.00   \n",
       "10           0.00  ...   0.00   0.00 0.00   0.00 0.00   0.00   0.00   0.00   \n",
       "100          0.00  ...   0.00   0.00 0.00   0.00 0.00   0.00   0.00   0.00   \n",
       "101          0.00  ...   0.00   0.00 0.00   0.00 0.00   0.00   0.00   0.00   \n",
       "102          0.00  ...   0.00   0.00 0.00   0.00 0.00   0.00   0.00   0.00   \n",
       "\n",
       "productId  999  99917  \n",
       "userId                 \n",
       "1         0.00   0.00  \n",
       "10        0.00   0.00  \n",
       "100       0.00   0.00  \n",
       "101       0.00   0.00  \n",
       "102       0.00   0.00  \n",
       "\n",
       "[5 rows x 5217 columns]"
      ]
     },
     "execution_count": 32,
     "metadata": {},
     "output_type": "execute_result"
    }
   ],
   "source": [
    "train_pd, test_pd, train_interactions, test_interactions = create_train_test_data(interactions_implicit,\n",
    "                                                                                  TEST_PERCENTAGE, \n",
    "                                                                                  nice_print = True)\n",
    "train_pd.head()"
   ]
  },
  {
   "cell_type": "markdown",
   "id": "0d8a8a66",
   "metadata": {},
   "source": [
    "### 5.2.3 Build User and item dictionaries"
   ]
  },
  {
   "cell_type": "code",
   "execution_count": 33,
   "id": "6c171cb2",
   "metadata": {},
   "outputs": [
    {
     "data": {
      "text/plain": [
       "[('1', 0),\n",
       " ('10', 1),\n",
       " ('100', 2),\n",
       " ('101', 3),\n",
       " ('102', 4),\n",
       " ('103', 5),\n",
       " ('104', 6),\n",
       " ('105', 7),\n",
       " ('106', 8),\n",
       " ('107', 9)]"
      ]
     },
     "execution_count": 33,
     "metadata": {},
     "output_type": "execute_result"
    }
   ],
   "source": [
    "users_dict_train= build_user_dict(train_pd) \n",
    "#showing the first 10 mapping\n",
    "list(islice(users_dict_train.items(), 10))"
   ]
  },
  {
   "cell_type": "markdown",
   "id": "fab87c51",
   "metadata": {},
   "source": [
    "## 5.3 Train Matrix Factorization model with implicit feedback data"
   ]
  },
  {
   "cell_type": "code",
   "execution_count": 34,
   "id": "7c13ffa8",
   "metadata": {},
   "outputs": [
    {
     "data": {
      "text/plain": [
       "<lightfm.lightfm.LightFM at 0x7f7597ec7e80>"
      ]
     },
     "execution_count": 34,
     "metadata": {},
     "output_type": "execute_result"
    }
   ],
   "source": [
    "trained_model = fit_model(interactions= train_pd, \n",
    "                          n_components= 10, \n",
    "                          loss= 'bpr', \n",
    "                          k= 10, \n",
    "                          epoch= 30)\n",
    "\n",
    "trained_model"
   ]
  },
  {
   "cell_type": "markdown",
   "id": "3cfe8ba6",
   "metadata": {},
   "source": [
    "## 5.4 Model Evaluation"
   ]
  },
  {
   "cell_type": "code",
   "execution_count": 35,
   "id": "7b71f042",
   "metadata": {},
   "outputs": [
    {
     "data": {
      "text/html": [
       "<div>\n",
       "<style scoped>\n",
       "    .dataframe tbody tr th:only-of-type {\n",
       "        vertical-align: middle;\n",
       "    }\n",
       "\n",
       "    .dataframe tbody tr th {\n",
       "        vertical-align: top;\n",
       "    }\n",
       "\n",
       "    .dataframe thead th {\n",
       "        text-align: right;\n",
       "    }\n",
       "</style>\n",
       "<table border=\"1\" class=\"dataframe\">\n",
       "  <thead>\n",
       "    <tr style=\"text-align: right;\">\n",
       "      <th></th>\n",
       "      <th>Evaluation Metric</th>\n",
       "      <th>Train</th>\n",
       "      <th>Test</th>\n",
       "    </tr>\n",
       "  </thead>\n",
       "  <tbody>\n",
       "    <tr>\n",
       "      <th>0</th>\n",
       "      <td>Average AUC</td>\n",
       "      <td>0.94</td>\n",
       "      <td>0.73</td>\n",
       "    </tr>\n",
       "    <tr>\n",
       "      <th>1</th>\n",
       "      <td>Average Precision@4</td>\n",
       "      <td>0.59</td>\n",
       "      <td>0.08</td>\n",
       "    </tr>\n",
       "    <tr>\n",
       "      <th>2</th>\n",
       "      <td>Average recall@4</td>\n",
       "      <td>0.10</td>\n",
       "      <td>0.04</td>\n",
       "    </tr>\n",
       "  </tbody>\n",
       "</table>\n",
       "</div>"
      ],
      "text/plain": [
       "     Evaluation Metric  Train  Test\n",
       "0          Average AUC   0.94  0.73\n",
       "1  Average Precision@4   0.59  0.08\n",
       "2     Average recall@4   0.10  0.04"
      ]
     },
     "execution_count": 35,
     "metadata": {},
     "output_type": "execute_result"
    },
    {
     "data": {
      "image/png": "[encoded data removed]",
      "text/plain": [
       "<Figure size 640x480 with 1 Axes>"
      ]
     },
     "metadata": {},
     "output_type": "display_data"
    },
    {
     "data": {
      "image/png": "[encoded data removed]",
      "text/plain": [
       "<Figure size 640x480 with 1 Axes>"
      ]
     },
     "metadata": {},
     "output_type": "display_data"
    },
    {
     "data": {
      "image/png": "[encoded data removed]",
      "text/plain": [
       "<Figure size 640x480 with 1 Axes>"
      ]
     },
     "metadata": {},
     "output_type": "display_data"
    }
   ],
   "source": [
    "df_metric_results = model_metrics(trained_model, train_interactions, \n",
    "                   test_interactions, \n",
    "                   k=4,\n",
    "                   no_epochs=100,\n",
    "                   nice_plot=True)\n",
    "df_metric_results"
   ]
  },
  {
   "cell_type": "markdown",
   "id": "08908b88",
   "metadata": {},
   "source": [
    "## 5.5 User recommendations"
   ]
  },
  {
   "cell_type": "code",
   "execution_count": 36,
   "id": "bedf470d",
   "metadata": {},
   "outputs": [
    {
     "name": "stdout",
     "output_type": "stream",
     "text": [
      "Known Likes:\n",
      "\n",
      " Recommended new items:\n",
      "1- Matrix, The (1999)\n",
      "2- Pulp Fiction (1994)\n",
      "3- Alien (1979)\n",
      "4- Star Wars: Episode V - The Empire Strikes Back (1980)\n"
     ]
    },
    {
     "data": {
      "text/plain": [
       "['2571', '296', '1214', '1196']"
      ]
     },
     "execution_count": 36,
     "metadata": {},
     "output_type": "execute_result"
    }
   ],
   "source": [
    "# Given a user id, recommend top 4 items  \n",
    "recommendations_for_user_items = recommendations_items_for_user(trained_model, \n",
    "                                                          train_pd,  \n",
    "                                                          user_id = '1',\n",
    "                                                          user_dict=users_dict_train, \n",
    "                                                          item_dict=items_dict,\n",
    "                                                          threshold = threshold_mean,\n",
    "                                                          num_recommendations = 4) \n",
    "recommendations_for_user_items"
   ]
  },
  {
   "cell_type": "markdown",
   "id": "937aaed2",
   "metadata": {},
   "source": [
    "## 5.6 User-item recommendations"
   ]
  },
  {
   "cell_type": "code",
   "execution_count": 37,
   "id": "4001b523",
   "metadata": {},
   "outputs": [
    {
     "data": {
      "text/plain": [
       "['35',\n",
       " '76',\n",
       " '1',\n",
       " '158',\n",
       " '46',\n",
       " '113',\n",
       " '29',\n",
       " '135',\n",
       " '162',\n",
       " '170',\n",
       " '11',\n",
       " '71',\n",
       " '65',\n",
       " '45',\n",
       " '54',\n",
       " '123',\n",
       " '51',\n",
       " '52',\n",
       " '127',\n",
       " '114']"
      ]
     },
     "execution_count": 37,
     "metadata": {},
     "output_type": "execute_result"
    }
   ],
   "source": [
    "recommendations_similar_users_for_item = recommendations_users_for_item(trained_model, \n",
    "                                                                        train_pd,\n",
    "                                                                        item_id='31', \n",
    "                                                                        number_of_user= threshold_mean) \n",
    "recommendations_similar_users_for_item"
   ]
  },
  {
   "cell_type": "markdown",
   "id": "814dee6d",
   "metadata": {},
   "source": [
    "## 5.7 Item-item recommendations"
   ]
  },
  {
   "cell_type": "code",
   "execution_count": 36,
   "id": "039900b3",
   "metadata": {},
   "outputs": [],
   "source": [
    "Built_embedding_matrix = embedding_matrix(trained_model, train_pd)"
   ]
  },
  {
   "cell_type": "code",
   "execution_count": 38,
   "id": "6f64dbe9",
   "metadata": {},
   "outputs": [
    {
     "name": "stdout",
     "output_type": "stream",
     "text": [
      "Similar items to \"Dangerous Minds (1995)\":\n",
      "1- So Fine (1981)\n",
      "2- Clone (Womb) (2010)\n",
      "3- High School Musical 3: Senior Year (2008)\n",
      "4- Frankenhooker (1990)\n",
      "5- Richie Rich (1994)\n",
      "6- Free Willy (1993)\n",
      "7- Stargate (1994)\n",
      "8- Awakenings (1990)\n",
      "9- Paul Blart: Mall Cop (2009)\n",
      "10- 5 Centimeters per Second (Byôsoku 5 senchimêtoru) (2007)\n"
     ]
    },
    {
     "data": {
      "text/plain": [
       "['5857',\n",
       " '91505',\n",
       " '62912',\n",
       " '26684',\n",
       " '374',\n",
       " '455',\n",
       " '316',\n",
       " '3105',\n",
       " '65802',\n",
       " '64993']"
      ]
     },
     "execution_count": 38,
     "metadata": {},
     "output_type": "execute_result"
    }
   ],
   "source": [
    "recommendations_similar_items_for_item = recommendations_items_for_item(Built_embedding_matrix,\n",
    "                                                                        item_id = '31',\n",
    "                                                                        item_dict = items_dict,\n",
    "                                                                        n_items = 10,\n",
    "                                                                        nice_print= True)\n",
    "                               \n",
    "                               \n",
    "recommendations_similar_items_for_item  "
   ]
  },
  {
   "cell_type": "markdown",
   "id": "ff505f64",
   "metadata": {},
   "source": [
    "# 6. Conclusion"
   ]
  },
  {
   "cell_type": "markdown",
   "id": "bd72e81e",
   "metadata": {},
   "source": [
    "In this notebook we showed how to build a recommendation model. We illustrated the following steps: \n",
    "- Process the data, and build interaction matrix\n",
    "- Train a collaborative filtering model\n",
    "- Get item-user and user-user and item-item recommendation predictions\n",
    "\n",
    "This notebook can be extended to incorporate user and item profile data in modeling. This extension is straightforward within the hybrid model we have used here. This notebook can also be extended to incorporate other recommendation models such as Neural Collaborative Filtering and Self-Attentive Sequential Recommendation models.  \n",
    "- <b> Please reach out to the OCI Decision Team if you have any question about this notebook or you want to get access to advanced notebooks for recommendation which are based on Oracle innovation such \n",
    "Sequential Deep Matching Model with Features Support and Neural Network based Matrix Factorization Models. </b>\n",
    "- <b> The OCI Decision team can help you to build a scalable recommendation system for your use-case.</b> "
   ]
  }
 ],
 "metadata": {
  "kernelspec": {
   "display_name": "Python 3 (ipykernel)",
   "language": "python",
   "name": "python3"
  },
  "language_info": {
   "codemirror_mode": {
    "name": "ipython",
    "version": 3
   },
   "file_extension": ".py",
   "mimetype": "text/x-python",
   "name": "python",
   "nbconvert_exporter": "python",
   "pygments_lexer": "ipython3",
   "version": "3.8.15"
  }
 },
 "nbformat": 4,
 "nbformat_minor": 5
}
